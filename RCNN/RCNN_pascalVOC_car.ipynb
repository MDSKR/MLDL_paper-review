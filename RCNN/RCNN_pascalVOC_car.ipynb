{
  "nbformat": 4,
  "nbformat_minor": 0,
  "metadata": {
    "colab": {
      "name": "RCNN_pascalVOC_car.ipynb",
      "provenance": [],
      "collapsed_sections": [],
      "toc_visible": true,
      "include_colab_link": true
    },
    "kernelspec": {
      "name": "python3",
      "display_name": "Python 3"
    },
    "language_info": {
      "name": "python"
    },
    "accelerator": "GPU",
    "widgets": {
      "application/vnd.jupyter.widget-state+json": {
        "636e518eebc54fb5b5a1d6754f2b1da1": {
          "model_module": "@jupyter-widgets/controls",
          "model_name": "HBoxModel",
          "state": {
            "_view_name": "HBoxView",
            "_dom_classes": [],
            "_model_name": "HBoxModel",
            "_view_module": "@jupyter-widgets/controls",
            "_model_module_version": "1.5.0",
            "_view_count": null,
            "_view_module_version": "1.5.0",
            "box_style": "",
            "layout": "IPY_MODEL_35c28cfe950a4af8b37f6222254d9e02",
            "_model_module": "@jupyter-widgets/controls",
            "children": [
              "IPY_MODEL_c3bd42a1dcb1489ab3a89977e349b0ad",
              "IPY_MODEL_7e3612499a23495682f91b475e247677"
            ]
          }
        },
        "35c28cfe950a4af8b37f6222254d9e02": {
          "model_module": "@jupyter-widgets/base",
          "model_name": "LayoutModel",
          "state": {
            "_view_name": "LayoutView",
            "grid_template_rows": null,
            "right": null,
            "justify_content": null,
            "_view_module": "@jupyter-widgets/base",
            "overflow": null,
            "_model_module_version": "1.2.0",
            "_view_count": null,
            "flex_flow": null,
            "width": null,
            "min_width": null,
            "border": null,
            "align_items": null,
            "bottom": null,
            "_model_module": "@jupyter-widgets/base",
            "top": null,
            "grid_column": null,
            "overflow_y": null,
            "overflow_x": null,
            "grid_auto_flow": null,
            "grid_area": null,
            "grid_template_columns": null,
            "flex": null,
            "_model_name": "LayoutModel",
            "justify_items": null,
            "grid_row": null,
            "max_height": null,
            "align_content": null,
            "visibility": null,
            "align_self": null,
            "height": null,
            "min_height": null,
            "padding": null,
            "grid_auto_rows": null,
            "grid_gap": null,
            "max_width": null,
            "order": null,
            "_view_module_version": "1.2.0",
            "grid_template_areas": null,
            "object_position": null,
            "object_fit": null,
            "grid_auto_columns": null,
            "margin": null,
            "display": null,
            "left": null
          }
        },
        "c3bd42a1dcb1489ab3a89977e349b0ad": {
          "model_module": "@jupyter-widgets/controls",
          "model_name": "FloatProgressModel",
          "state": {
            "_view_name": "ProgressView",
            "style": "IPY_MODEL_9eb20f119b314852b9957f39ca6882d0",
            "_dom_classes": [],
            "description": "100%",
            "_model_name": "FloatProgressModel",
            "bar_style": "success",
            "max": 244418560,
            "_view_module": "@jupyter-widgets/controls",
            "_model_module_version": "1.5.0",
            "value": 244418560,
            "_view_count": null,
            "_view_module_version": "1.5.0",
            "orientation": "horizontal",
            "min": 0,
            "description_tooltip": null,
            "_model_module": "@jupyter-widgets/controls",
            "layout": "IPY_MODEL_ee3917267f8442939281643538fb892b"
          }
        },
        "7e3612499a23495682f91b475e247677": {
          "model_module": "@jupyter-widgets/controls",
          "model_name": "HTMLModel",
          "state": {
            "_view_name": "HTMLView",
            "style": "IPY_MODEL_8273ec2d6ae04f20b2cc363b55a4fac5",
            "_dom_classes": [],
            "description": "",
            "_model_name": "HTMLModel",
            "placeholder": "​",
            "_view_module": "@jupyter-widgets/controls",
            "_model_module_version": "1.5.0",
            "value": " 233M/233M [00:07&lt;00:00, 30.6MB/s]",
            "_view_count": null,
            "_view_module_version": "1.5.0",
            "description_tooltip": null,
            "_model_module": "@jupyter-widgets/controls",
            "layout": "IPY_MODEL_0afd3ba72ea7401d81a4cc12c3656536"
          }
        },
        "9eb20f119b314852b9957f39ca6882d0": {
          "model_module": "@jupyter-widgets/controls",
          "model_name": "ProgressStyleModel",
          "state": {
            "_view_name": "StyleView",
            "_model_name": "ProgressStyleModel",
            "description_width": "initial",
            "_view_module": "@jupyter-widgets/base",
            "_model_module_version": "1.5.0",
            "_view_count": null,
            "_view_module_version": "1.2.0",
            "bar_color": null,
            "_model_module": "@jupyter-widgets/controls"
          }
        },
        "ee3917267f8442939281643538fb892b": {
          "model_module": "@jupyter-widgets/base",
          "model_name": "LayoutModel",
          "state": {
            "_view_name": "LayoutView",
            "grid_template_rows": null,
            "right": null,
            "justify_content": null,
            "_view_module": "@jupyter-widgets/base",
            "overflow": null,
            "_model_module_version": "1.2.0",
            "_view_count": null,
            "flex_flow": null,
            "width": null,
            "min_width": null,
            "border": null,
            "align_items": null,
            "bottom": null,
            "_model_module": "@jupyter-widgets/base",
            "top": null,
            "grid_column": null,
            "overflow_y": null,
            "overflow_x": null,
            "grid_auto_flow": null,
            "grid_area": null,
            "grid_template_columns": null,
            "flex": null,
            "_model_name": "LayoutModel",
            "justify_items": null,
            "grid_row": null,
            "max_height": null,
            "align_content": null,
            "visibility": null,
            "align_self": null,
            "height": null,
            "min_height": null,
            "padding": null,
            "grid_auto_rows": null,
            "grid_gap": null,
            "max_width": null,
            "order": null,
            "_view_module_version": "1.2.0",
            "grid_template_areas": null,
            "object_position": null,
            "object_fit": null,
            "grid_auto_columns": null,
            "margin": null,
            "display": null,
            "left": null
          }
        },
        "8273ec2d6ae04f20b2cc363b55a4fac5": {
          "model_module": "@jupyter-widgets/controls",
          "model_name": "DescriptionStyleModel",
          "state": {
            "_view_name": "StyleView",
            "_model_name": "DescriptionStyleModel",
            "description_width": "",
            "_view_module": "@jupyter-widgets/base",
            "_model_module_version": "1.5.0",
            "_view_count": null,
            "_view_module_version": "1.2.0",
            "_model_module": "@jupyter-widgets/controls"
          }
        },
        "0afd3ba72ea7401d81a4cc12c3656536": {
          "model_module": "@jupyter-widgets/base",
          "model_name": "LayoutModel",
          "state": {
            "_view_name": "LayoutView",
            "grid_template_rows": null,
            "right": null,
            "justify_content": null,
            "_view_module": "@jupyter-widgets/base",
            "overflow": null,
            "_model_module_version": "1.2.0",
            "_view_count": null,
            "flex_flow": null,
            "width": null,
            "min_width": null,
            "border": null,
            "align_items": null,
            "bottom": null,
            "_model_module": "@jupyter-widgets/base",
            "top": null,
            "grid_column": null,
            "overflow_y": null,
            "overflow_x": null,
            "grid_auto_flow": null,
            "grid_area": null,
            "grid_template_columns": null,
            "flex": null,
            "_model_name": "LayoutModel",
            "justify_items": null,
            "grid_row": null,
            "max_height": null,
            "align_content": null,
            "visibility": null,
            "align_self": null,
            "height": null,
            "min_height": null,
            "padding": null,
            "grid_auto_rows": null,
            "grid_gap": null,
            "max_width": null,
            "order": null,
            "_view_module_version": "1.2.0",
            "grid_template_areas": null,
            "object_position": null,
            "object_fit": null,
            "grid_auto_columns": null,
            "margin": null,
            "display": null,
            "left": null
          }
        }
      }
    }
  },
  "cells": [
    {
      "cell_type": "markdown",
      "metadata": {
        "id": "view-in-github",
        "colab_type": "text"
      },
      "source": [
        "<a href=\"https://colab.research.google.com/github/MDSKR/MLDL_paper-review/blob/main/RCNN/RCNN_pascalVOC_car.ipynb\" target=\"_parent\"><img src=\"https://colab.research.google.com/assets/colab-badge.svg\" alt=\"Open In Colab\"/></a>"
      ]
    },
    {
      "cell_type": "markdown",
      "metadata": {
        "id": "WzwbB9-oGCUK"
      },
      "source": [
        "code review from https://herbwood.tistory.com/6?category=867198\n",
        "\n",
        "original code from https://github.com/object-detection-algorithm/R-CNN"
      ]
    },
    {
      "cell_type": "code",
      "metadata": {
        "id": "g_XshcSQIC9O"
      },
      "source": [
        "# http://host.robots.ox.ac.uk/pascal/VOC/voc2007/\n",
        "# !wget http://host.robots.ox.ac.uk/pascal/VOC/voc2007/VOCtrainval_06-Nov-2007.tar\n",
        "# !tar -xvf VOCtrainval_06-Nov-2007.tar\n",
        "\n",
        "# https://pjreddie.com/projects/pascal-voc-dataset-mirror/\n",
        "!wget http://pjreddie.com/media/files/VOCtrainval_06-Nov-2007.tar\n",
        "!tar -xvf VOCtrainval_06-Nov-2007.tar"
      ],
      "execution_count": null,
      "outputs": []
    },
    {
      "cell_type": "markdown",
      "metadata": {
        "id": "ssT2lFIHG1Sh"
      },
      "source": [
        "### 1. PASCAL VOC 데이터셋 다운로드 및 \"car\" class 해당하는 데이터만 추출\n",
        "\n",
        "https://github.com/object-detection-algorithm/R-CNN/blob/master/py/utils/data/pascal_voc.py\n",
        "\n",
        "https://github.com/object-detection-algorithm/R-CNN/blob/master/py/utils/data/pascal_voc_car.py"
      ]
    },
    {
      "cell_type": "markdown",
      "metadata": {
        "id": "Nx3onvpAKO3K"
      },
      "source": [
        "PASCAL VOC 2007 데이터에 대한 설명 참조\n",
        "(https://ndb796.tistory.com/500)\n",
        "\n",
        "객체 탐지(object detection)만 다룬다면 Annotations, ImageSets, JPEGImages 세 가지 폴더만 이용\n",
        "\n",
        "1) 주석(Annotation) : xml 파일\n",
        "\n",
        "  ① 클래스(Class): 오브젝트의 클래스가 무엇인지\n",
        "\n",
        "  ② 바운딩 박스(Bounding Box): 오브젝트가 어디에 있는지\n",
        "\n",
        "  ③ View: 각각의 오브젝트의 방향성 정보\n",
        "\n",
        "  ④ Truncated: 오브젝트가 해당 이미지에 온전히 표현되지 못하고 잘려나갔는지\n",
        "\n",
        "  ⑤ Difficult: 인식하기 어려운지\n",
        "\n",
        "2) ImageSets : txt 파일\n",
        "\n",
        "모든 이미지 파일명과 텍스트 파일명과 동일한 class에 해당하는지 여부(해당할 경우 1, 아닐 경우 -1)"
      ]
    },
    {
      "cell_type": "code",
      "metadata": {
        "id": "yMplZdUdJTz-"
      },
      "source": [
        "import numpy as np\n",
        "\n",
        "def parse_train_val(data_path):\n",
        "    samples = []\n",
        "\n",
        "    with open(data_path, 'r') as file:\n",
        "        lines = file.readlines()\n",
        "        for line in lines:\n",
        "            res = line.strip().split(' ')\n",
        "            if len(res) == 3 and int(res[2]) == 1:\n",
        "                samples.append(res[0])\n",
        "\n",
        "    return np.array(samples)"
      ],
      "execution_count": null,
      "outputs": []
    },
    {
      "cell_type": "code",
      "metadata": {
        "id": "Fa7LopG_JcxX"
      },
      "source": [
        "car_train_path = './VOCdevkit/VOC2007/ImageSets/Main/car_train.txt'\n",
        "car_val_path = './VOCdevkit/VOC2007/ImageSets/Main/car_val.txt'"
      ],
      "execution_count": null,
      "outputs": []
    },
    {
      "cell_type": "code",
      "metadata": {
        "id": "ycCZClrSJ0FJ"
      },
      "source": [
        "samples = {'train': parse_train_val(car_train_path), 'val': parse_train_val(car_val_path)}\n",
        "# print(samples)"
      ],
      "execution_count": null,
      "outputs": []
    },
    {
      "cell_type": "code",
      "metadata": {
        "id": "KxIWkIHuKz6k"
      },
      "source": [
        "import random\n",
        "\n",
        "def sample_train_val(samples):\n",
        "    for name in ['train', 'val']:\n",
        "        dataset = samples[name]\n",
        "        length = len(dataset)\n",
        "\n",
        "        random_samples = random.sample(range(length), int(length / 10))\n",
        "        # print(random_samples)\n",
        "        new_dataset = dataset[random_samples]\n",
        "        samples[name] = new_dataset\n",
        "\n",
        "    return samples"
      ],
      "execution_count": null,
      "outputs": []
    },
    {
      "cell_type": "code",
      "metadata": {
        "colab": {
          "base_uri": "https://localhost:8080/"
        },
        "id": "1F_R92_GK4rv",
        "outputId": "b368c7be-1c94-40af-c341-deb6e5140787"
      },
      "source": [
        "samples = sample_train_val(samples)\n",
        "print(samples)"
      ],
      "execution_count": null,
      "outputs": [
        {
          "output_type": "stream",
          "text": [
            "{'train': array(['008174', '002804', '005536', '009358', '003555', '009845',\n",
            "       '006210', '007667', '001937', '008968', '007159', '004873',\n",
            "       '002411', '007490', '009671', '005273', '005782', '005669',\n",
            "       '003027', '005566', '004386', '004962', '000367', '009121',\n",
            "       '007790', '002134', '002180', '000977', '009411', '009045',\n",
            "       '008037', '007821', '009406', '009718', '002490', '003165',\n",
            "       '009959'], dtype='<U6'), 'val': array(['003891', '009822', '005979', '006325', '005588', '004087',\n",
            "       '000653', '006396', '006668', '009116', '008429', '006235',\n",
            "       '000338', '001862', '007622', '008562', '009053', '003820',\n",
            "       '009015', '007525', '000233', '008031', '003117', '005988',\n",
            "       '006918', '000251', '000329', '002566', '003721', '002563',\n",
            "       '007921', '006206', '002248'], dtype='<U6')}\n"
          ],
          "name": "stdout"
        }
      ]
    },
    {
      "cell_type": "code",
      "metadata": {
        "id": "vRes_bl0MQ__"
      },
      "source": [
        "voc_annotation_dir = './VOCdevkit/VOC2007/Annotations/'\n",
        "voc_jpeg_dir = './VOCdevkit/VOC2007/JPEGImages/'"
      ],
      "execution_count": null,
      "outputs": []
    },
    {
      "cell_type": "code",
      "metadata": {
        "id": "8TAvPc5UJN4B"
      },
      "source": [
        "# car에 해당하는 이미지와 xml 파일을 복사하여 별도의 데이터셋을 구축\n",
        "import os\n",
        "import shutil\n",
        "\n",
        "car_root_dir = './voc_car/'\n",
        "if not os.path.exists(car_root_dir):\n",
        "  os.mkdir(car_root_dir)\n",
        "\n",
        "def save_car(car_samples, data_root_dir, data_annotation_dir, data_jpeg_dir):\n",
        "    for sample_name in car_samples:\n",
        "        src_annotation_path = os.path.join(voc_annotation_dir, sample_name + '.xml')\n",
        "        dst_annotation_path = os.path.join(data_annotation_dir, sample_name + '.xml')\n",
        "        shutil.copyfile(src_annotation_path, dst_annotation_path)\n",
        "\n",
        "        src_jpeg_path = os.path.join(voc_jpeg_dir, sample_name + '.jpg')\n",
        "        dst_jpeg_path = os.path.join(data_jpeg_dir, sample_name + '.jpg')\n",
        "        shutil.copyfile(src_jpeg_path, dst_jpeg_path)\n",
        "\n",
        "    csv_path = os.path.join(data_root_dir, 'car.csv')\n",
        "    np.savetxt(csv_path, np.array(car_samples), fmt='%s')\n",
        "\n",
        "for name in ['train', 'val']:\n",
        "  data_root_dir = os.path.join(car_root_dir, name)\n",
        "  data_annotation_dir = os.path.join(data_root_dir, 'Annotations')\n",
        "  data_jpeg_dir = os.path.join(data_root_dir, 'JPEGImages')\n",
        "\n",
        "  if not os.path.exists(data_root_dir):\n",
        "    os.mkdir(data_root_dir)\n",
        "  if not os.path.exists(data_annotation_dir):\n",
        "    os.mkdir(data_annotation_dir)\n",
        "  if not os.path.exists(data_jpeg_dir):\n",
        "    os.mkdir(data_jpeg_dir)\n",
        "\n",
        "  save_car(samples[name], data_root_dir, data_annotation_dir, data_jpeg_dir)"
      ],
      "execution_count": null,
      "outputs": []
    },
    {
      "cell_type": "markdown",
      "metadata": {
        "id": "_Kitd3eAOB1G"
      },
      "source": [
        "### 2. 각 모델별 annotation 생성"
      ]
    },
    {
      "cell_type": "markdown",
      "metadata": {
        "id": "x_l4-bkpe1bO"
      },
      "source": [
        "#### selectivesearch.py : opencv에서 제공하는 메서드를 통해 Selective search 알고리즘 수행\n",
        "https://github.com/object-detection-algorithm/R-CNN/blob/master/py/selectivesearch.py\n",
        "\n",
        "\n",
        "1) 이미지에 Selective search 알고리즘을 적용하여 region proposals를 추출합니다. 그리고 해당 이미지에 대한 xml 파일을 읽어들여 ground truth box를 파악합니다.\n",
        "\n",
        "2) region proposals와 ground truth box를 비교하여 IoU 값을 도출하고 0.5 이상인 sample은 positive_list, 0.5 미만인 sample은 negative_list에 저장합니다.\n",
        "\n",
        "3) 그리고 이미지별 region proposal에 대한 위치를 positive/negative 여부에 따라 서로 다른 csv 파일에 저장합니다. 예를 들어 1111.jpg 파일에서 positive sample에 해당하는 bounding box의 좌표는 1111_1.csv 파일에, negative sample에 해당하는 bounding box는 1111_0.csv 파일에 저장합니다. \n"
      ]
    },
    {
      "cell_type": "markdown",
      "metadata": {
        "id": "La1Q8FhnPAhs"
      },
      "source": [
        "#### create_finetune_data.py : AlexNet fine tune을 수행하기 위한 annotation 생성\n",
        "https://github.com/object-detection-algorithm/R-CNN/blob/master/py/utils/data/create_finetune_data.py"
      ]
    },
    {
      "cell_type": "code",
      "metadata": {
        "id": "rPYhalgKZWeE"
      },
      "source": [
        "finetune_root_dir = './finetune_car/'\n",
        "if not os.path.exists(finetune_root_dir):\n",
        "  os.mkdir(finetune_root_dir)\n",
        "\n",
        "for name in ['train', 'val']:\n",
        "  dst_root_dir = os.path.join(finetune_root_dir, name)\n",
        "  dst_annotation_dir = os.path.join(dst_root_dir, 'Annotations')\n",
        "  dst_jpeg_dir = os.path.join(dst_root_dir, 'JPEGImages')\n",
        "\n",
        "  if not os.path.exists(dst_root_dir):\n",
        "    os.mkdir(dst_root_dir)\n",
        "  if not os.path.exists(dst_annotation_dir):\n",
        "    os.mkdir(dst_annotation_dir)\n",
        "  if not os.path.exists(dst_jpeg_dir):\n",
        "    os.mkdir(dst_jpeg_dir)"
      ],
      "execution_count": null,
      "outputs": []
    },
    {
      "cell_type": "code",
      "metadata": {
        "colab": {
          "base_uri": "https://localhost:8080/"
        },
        "id": "ffJ0urzgcGtH",
        "outputId": "45f50d23-600d-4735-81b2-ab794d332e64"
      },
      "source": [
        "!pip install xmltodict"
      ],
      "execution_count": null,
      "outputs": [
        {
          "output_type": "stream",
          "text": [
            "Collecting xmltodict\n",
            "  Downloading https://files.pythonhosted.org/packages/28/fd/30d5c1d3ac29ce229f6bdc40bbc20b28f716e8b363140c26eff19122d8a5/xmltodict-0.12.0-py2.py3-none-any.whl\n",
            "Installing collected packages: xmltodict\n",
            "Successfully installed xmltodict-0.12.0\n"
          ],
          "name": "stdout"
        }
      ]
    },
    {
      "cell_type": "code",
      "metadata": {
        "id": "0vX7R2Aja-Hh"
      },
      "source": [
        "import xmltodict\n",
        "\n",
        "def parse_xml(xml_path):\n",
        "    with open(xml_path, 'rb') as f:\n",
        "        xml_dict = xmltodict.parse(f)\n",
        "        # print(xml_dict)\n",
        "\n",
        "        bndboxs = list()\n",
        "        objects = xml_dict['annotation']['object']\n",
        "        if isinstance(objects, list):\n",
        "            for obj in objects:\n",
        "                obj_name = obj['name']\n",
        "                difficult = int(obj['difficult'])\n",
        "                if 'car'.__eq__(obj_name) and difficult != 1:\n",
        "                    bndbox = obj['bndbox']\n",
        "                    bndboxs.append((int(bndbox['xmin']), int(bndbox['ymin']), int(bndbox['xmax']), int(bndbox['ymax'])))\n",
        "        elif isinstance(objects, dict):\n",
        "            obj_name = objects['name']\n",
        "            difficult = int(objects['difficult'])\n",
        "            if 'car'.__eq__(obj_name) and difficult != 1:\n",
        "                bndbox = objects['bndbox']\n",
        "                bndboxs.append((int(bndbox['xmin']), int(bndbox['ymin']), int(bndbox['xmax']), int(bndbox['ymax'])))\n",
        "        else:\n",
        "            pass\n",
        "\n",
        "        return np.array(bndboxs)"
      ],
      "execution_count": null,
      "outputs": []
    },
    {
      "cell_type": "code",
      "metadata": {
        "id": "tWJRdotGcmYk"
      },
      "source": [
        "def iou(pred_box, target_box):\n",
        "    \"\"\"\n",
        "    Calculate candidate suggestions and label the IoU of the bounding box\n",
        "    :param pred_box: size is [4]\n",
        "    :param target_box: size is [N, 4]\n",
        "    :return: [N]\n",
        "    \"\"\"\n",
        "    if len(target_box.shape) == 1:\n",
        "        target_box = target_box[np.newaxis, :]\n",
        "\n",
        "    xA = np.maximum(pred_box[0], target_box[:, 0])\n",
        "    yA = np.maximum(pred_box[1], target_box[:, 1])\n",
        "    xB = np.minimum(pred_box[2], target_box[:, 2])\n",
        "    yB = np.minimum(pred_box[3], target_box[:, 3])\n",
        "    # Calculate the intersection area\n",
        "    intersection = np.maximum(0.0, xB - xA) * np.maximum(0.0, yB - yA)\n",
        "    # Calculate the area of two bounding boxes\n",
        "    boxAArea = (pred_box[2] - pred_box[0]) * (pred_box[3] - pred_box[1])\n",
        "    boxBArea = (target_box[:, 2] - target_box[:, 0]) * (target_box[:, 3] - target_box[:, 1])\n",
        "\n",
        "    scores = intersection / (boxAArea + boxBArea - intersection)\n",
        "    return scores"
      ],
      "execution_count": null,
      "outputs": []
    },
    {
      "cell_type": "code",
      "metadata": {
        "id": "zT1LRHhWfsqQ"
      },
      "source": [
        "def region_proposals(annotation_path, jpeg_path, gs):\n",
        "\n",
        "    img = cv2.imread(jpeg_path)\n",
        "\n",
        "    gs.setBaseImage(img)\n",
        "    gs.switchToSelectiveSearchQuality()\n",
        "    \n",
        "    # region proposals\n",
        "    rects = gs.process()\n",
        "    rects[:, 2] += rects[:, 0]\n",
        "    rects[:, 3] += rects[:, 1]\n",
        "\n",
        "    bndboxs = parse_xml(annotation_path) # ground truth boxes\n",
        "\n",
        "    # get size of the biggest bounding box(region proposals)\n",
        "    maximum_bndbox_size = 0\n",
        "    for bndbox in bndboxs:\n",
        "        xmin, ymin, xmax, ymax = bndbox\n",
        "        bndbox_size = (ymax - ymin) * (xmax - xmin)\n",
        "        if bndbox_size > maximum_bndbox_size:\n",
        "            maximum_bndbox_size = bndbox_size\n",
        "\n",
        "    # Comparing all region proposals and ground truth\n",
        "    # return a list of iou results for each region proposals\n",
        "    iou_list = list()\n",
        "    for rect in rects:\n",
        "      scores = iou(rect, bndboxs)\n",
        "      iou_list.append(max(scores))\n",
        "\n",
        "    return iou_list, rects, maximum_bndbox_size, bndboxs"
      ],
      "execution_count": null,
      "outputs": []
    },
    {
      "cell_type": "code",
      "metadata": {
        "id": "W35HaMKOPGg5"
      },
      "source": [
        "import cv2\n",
        "\n",
        "def parse_annotation_jpeg(annotation_path, jpeg_path, gs):\n",
        "\n",
        "    iou_list, rects, maximum_bndbox_size, bndboxs = region_proposals(annotation_path, jpeg_path, gs)\n",
        "\n",
        "    positive_list = list()\n",
        "    negative_list = list()\n",
        "\n",
        "    for i in range(len(iou_list)):\n",
        "        xmin, ymin, xmax, ymax = rects[i]\n",
        "        rect_size = (ymax - ymin) * (xmax - xmin)\n",
        "\n",
        "        iou_score = iou_list[i]\n",
        "        # When fine-tuning the pre-trained CNN model\n",
        "        # positive : iou >= 0.5\n",
        "        # negative : iou < 0.5\n",
        "        # Only the bounding box with iou greater than 0.5 is saved\n",
        "        if iou_score >= 0.5:\n",
        "            positive_list.append(rects[i])\n",
        "\n",
        "        # negative : iou < 0.5 And if it is more than 20% of the largest bounding box\n",
        "        if 0 < iou_list[i] < 0.5 and rect_size > maximum_bndbox_size / 5.0:\n",
        "            negative_list.append(rects[i])\n",
        "        else:\n",
        "            pass\n",
        "\n",
        "    return positive_list, negative_list"
      ],
      "execution_count": null,
      "outputs": []
    },
    {
      "cell_type": "code",
      "metadata": {
        "colab": {
          "base_uri": "https://localhost:8080/"
        },
        "id": "eF8iNcdxP2Sg",
        "outputId": "d7b40c08-303e-40a8-ba79-925058637da8"
      },
      "source": [
        "import time\n",
        "\n",
        "gs = cv2.ximgproc.segmentation.createSelectiveSearchSegmentation()\n",
        "for name in ['train', 'val']:\n",
        "    total_num_positive = 0\n",
        "    total_num_negative = 0\n",
        "\n",
        "    samples = np.loadtxt(os.path.join(car_root_dir, name, 'car.csv'), dtype = np.str)\n",
        "\n",
        "    src_csv_path = os.path.join(car_root_dir, name, 'car.csv')\n",
        "    dst_csv_path = os.path.join(finetune_root_dir, name, 'car.csv')\n",
        "    shutil.copyfile(src_csv_path, dst_csv_path)\n",
        "    for sample_name in samples:\n",
        "        since = time.time()\n",
        "\n",
        "        src_annotation_path = os.path.join(car_root_dir, name, 'Annotations', sample_name + '.xml')\n",
        "        src_jpeg_path = os.path.join(car_root_dir, name, 'JPEGImages', sample_name + '.jpg')\n",
        "\n",
        "        positive_list, negative_list = parse_annotation_jpeg(src_annotation_path, src_jpeg_path, gs)\n",
        "        total_num_positive += len(positive_list)\n",
        "        total_num_negative += len(negative_list)\n",
        "\n",
        "        dst_annotation_dir = os.path.join(finetune_root_dir, name, 'Annotations')\n",
        "        dst_jpeg_dir = os.path.join(finetune_root_dir, name, 'JPEGImages')\n",
        "        dst_annotation_positive_path = os.path.join(dst_annotation_dir, sample_name + '_1' + '.csv')\n",
        "        dst_annotation_negative_path = os.path.join(dst_annotation_dir, sample_name + '_0' + '.csv')\n",
        "        dst_jpeg_path = os.path.join(dst_jpeg_dir, sample_name + '.jpg')\n",
        "        shutil.copyfile(src_jpeg_path, dst_jpeg_path)\n",
        "\n",
        "        np.savetxt(dst_annotation_positive_path, np.array(positive_list), fmt='%d', delimiter=' ')\n",
        "        np.savetxt(dst_annotation_negative_path, np.array(negative_list), fmt='%d', delimiter=' ')\n",
        "\n",
        "        time_elapsed = time.time() - since\n",
        "        print('parse {}.png in {:.0f}m {:.0f}s'.format(sample_name, time_elapsed // 60, time_elapsed % 60))\n",
        "    print('%s positive num: %d' % (name, total_num_positive))\n",
        "    print('%s negative num: %d' % (name, total_num_negative))"
      ],
      "execution_count": null,
      "outputs": [
        {
          "output_type": "stream",
          "text": [
            "parse 008174.png in 0m 7s\n",
            "parse 002804.png in 0m 7s\n",
            "parse 005536.png in 0m 8s\n",
            "parse 009358.png in 0m 7s\n",
            "parse 003555.png in 0m 7s\n",
            "parse 009845.png in 0m 9s\n",
            "parse 006210.png in 0m 7s\n",
            "parse 007667.png in 0m 7s\n",
            "parse 001937.png in 0m 7s\n",
            "parse 008968.png in 0m 7s\n",
            "parse 007159.png in 0m 9s\n",
            "parse 004873.png in 0m 8s\n",
            "parse 002411.png in 0m 7s\n",
            "parse 007490.png in 0m 8s\n",
            "parse 009671.png in 0m 7s\n",
            "parse 005273.png in 0m 8s\n",
            "parse 005782.png in 0m 6s\n",
            "parse 005669.png in 0m 6s\n",
            "parse 003027.png in 0m 6s\n",
            "parse 005566.png in 0m 7s\n",
            "parse 004386.png in 0m 6s\n",
            "parse 004962.png in 0m 7s\n",
            "parse 000367.png in 0m 8s\n",
            "parse 009121.png in 0m 7s\n",
            "parse 007790.png in 0m 7s\n",
            "parse 002134.png in 0m 8s\n",
            "parse 002180.png in 0m 8s\n",
            "parse 000977.png in 0m 7s\n",
            "parse 009411.png in 0m 7s\n",
            "parse 009045.png in 0m 8s\n",
            "parse 008037.png in 0m 7s\n",
            "parse 007821.png in 0m 7s\n",
            "parse 009406.png in 0m 6s\n",
            "parse 009718.png in 0m 9s\n",
            "parse 002490.png in 0m 8s\n",
            "parse 003165.png in 0m 4s\n",
            "parse 009959.png in 0m 7s\n",
            "train positive num: 6167\n",
            "train negative num: 50251\n",
            "parse 003891.png in 0m 7s\n",
            "parse 009822.png in 0m 9s\n",
            "parse 005979.png in 0m 7s\n",
            "parse 006325.png in 0m 10s\n",
            "parse 005588.png in 0m 7s\n",
            "parse 004087.png in 0m 7s\n",
            "parse 000653.png in 0m 8s\n",
            "parse 006396.png in 0m 3s\n",
            "parse 006668.png in 0m 8s\n",
            "parse 009116.png in 0m 7s\n",
            "parse 008429.png in 0m 7s\n",
            "parse 006235.png in 0m 7s\n",
            "parse 000338.png in 0m 6s\n",
            "parse 001862.png in 0m 7s\n",
            "parse 007622.png in 0m 7s\n",
            "parse 008562.png in 0m 8s\n",
            "parse 009053.png in 0m 7s\n",
            "parse 003820.png in 0m 8s\n",
            "parse 009015.png in 0m 7s\n",
            "parse 007525.png in 0m 8s\n",
            "parse 000233.png in 0m 8s\n",
            "parse 008031.png in 0m 8s\n",
            "parse 003117.png in 0m 6s\n",
            "parse 005988.png in 0m 7s\n",
            "parse 006918.png in 0m 7s\n",
            "parse 000251.png in 0m 11s\n",
            "parse 000329.png in 0m 6s\n",
            "parse 002566.png in 0m 7s\n",
            "parse 003721.png in 0m 6s\n",
            "parse 002563.png in 0m 6s\n",
            "parse 007921.png in 0m 7s\n",
            "parse 006206.png in 0m 8s\n",
            "parse 002248.png in 0m 7s\n",
            "val positive num: 5374\n",
            "val negative num: 39049\n"
          ],
          "name": "stdout"
        }
      ]
    },
    {
      "cell_type": "markdown",
      "metadata": {
        "id": "qHqV2MGcPCE9"
      },
      "source": [
        "#### create_classifier_data.py : linear SVM 학습을 위한 annotation 생성\n",
        "https://github.com/object-detection-algorithm/R-CNN/blob/master/py/utils/data/create_classifier_data.py\n"
      ]
    },
    {
      "cell_type": "code",
      "metadata": {
        "id": "XzlwERZUPHIp"
      },
      "source": [
        "def parse_annotation_jpeg_svm(annotation_path, jpeg_path, gs):\n",
        "\n",
        "    iou_list, rects, maximum_bndbox_size, bndboxs = region_proposals(annotation_path, jpeg_path, gs)\n",
        "\n",
        "    positive_list = list()\n",
        "    negative_list = list()\n",
        "    for i in range(len(iou_list)):\n",
        "        xmin, ymin, xmax, ymax = rects[i]\n",
        "        rect_size = (ymax - ymin) * (xmax - xmin)\n",
        "\n",
        "        iou_score = iou_list[i]\n",
        "        if 0 < iou_score <= 0.3 and rect_size > maximum_bndbox_size / 5.0:\n",
        "            negative_list.append(rects[i])\n",
        "        else:\n",
        "            pass\n",
        "\n",
        "    return bndboxs, negative_list"
      ],
      "execution_count": null,
      "outputs": []
    },
    {
      "cell_type": "code",
      "metadata": {
        "colab": {
          "base_uri": "https://localhost:8080/"
        },
        "id": "0uwSVg0qgjOb",
        "outputId": "a7de14c0-f5ef-4807-fbd5-8aaf6602ff6d"
      },
      "source": [
        "classifier_root_dir = './classifier_car/'\n",
        "if not os.path.exists(classifier_root_dir):\n",
        "  os.mkdir(classifier_root_dir)\n",
        "\n",
        "gs = cv2.ximgproc.segmentation.createSelectiveSearchSegmentation()\n",
        "for name in ['train', 'val']:\n",
        "    dst_root_dir = os.path.join(classifier_root_dir, name)\n",
        "    dst_annotation_dir = os.path.join(dst_root_dir, 'Annotations')\n",
        "    dst_jpeg_dir = os.path.join(dst_root_dir, 'JPEGImages')\n",
        "\n",
        "    if not os.path.exists(dst_root_dir):\n",
        "      os.mkdir(dst_root_dir)\n",
        "    if not os.path.exists(dst_annotation_dir):\n",
        "      os.mkdir(dst_annotation_dir)\n",
        "    if not os.path.exists(dst_jpeg_dir):\n",
        "      os.mkdir(dst_jpeg_dir)\n",
        "\n",
        "    total_num_positive = 0\n",
        "    total_num_negative = 0\n",
        "\n",
        "    samples = np.loadtxt(os.path.join(car_root_dir, name, 'car.csv'), dtype = np.str)\n",
        "\n",
        "    src_csv_path = os.path.join(car_root_dir, name, 'car.csv')\n",
        "    dst_csv_path = os.path.join(classifier_root_dir, name, 'car.csv')\n",
        "    shutil.copyfile(src_csv_path, dst_csv_path)\n",
        "    for sample_name in samples:\n",
        "        since = time.time()\n",
        "\n",
        "        src_annotation_path = os.path.join(car_root_dir, name, 'Annotations', sample_name + '.xml')\n",
        "        src_jpeg_path = os.path.join(car_root_dir, name, 'JPEGImages', sample_name + '.jpg')\n",
        "\n",
        "        positive_list, negative_list = parse_annotation_jpeg_svm(src_annotation_path, src_jpeg_path, gs)\n",
        "        total_num_positive += len(positive_list)\n",
        "        total_num_negative += len(negative_list)\n",
        "\n",
        "        dst_annotation_positive_path = os.path.join(dst_annotation_dir, sample_name + '_1' + '.csv')\n",
        "        dst_annotation_negative_path = os.path.join(dst_annotation_dir, sample_name + '_0' + '.csv')\n",
        "        dst_jpeg_path = os.path.join(dst_jpeg_dir, sample_name + '.jpg')\n",
        "        shutil.copyfile(src_jpeg_path, dst_jpeg_path)\n",
        "        \n",
        "        # Save positive and negative sample labels\n",
        "        np.savetxt(dst_annotation_positive_path, np.array(positive_list), fmt='%d', delimiter=' ')\n",
        "        np.savetxt(dst_annotation_negative_path, np.array(negative_list), fmt='%d', delimiter=' ')\n",
        "\n",
        "        time_elapsed = time.time() - since\n",
        "        print('parse {}.png in {:.0f}m {:.0f}s'.format(sample_name, time_elapsed // 60, time_elapsed % 60))\n",
        "    print('%s positive num: %d' % (name, total_num_positive))\n",
        "    print('%s negative num: %d' % (name, total_num_negative))"
      ],
      "execution_count": null,
      "outputs": [
        {
          "output_type": "stream",
          "text": [
            "parse 008174.png in 0m 7s\n",
            "parse 002804.png in 0m 7s\n",
            "parse 005536.png in 0m 7s\n",
            "parse 009358.png in 0m 7s\n",
            "parse 003555.png in 0m 7s\n",
            "parse 009845.png in 0m 9s\n",
            "parse 006210.png in 0m 7s\n",
            "parse 007667.png in 0m 7s\n",
            "parse 001937.png in 0m 7s\n",
            "parse 008968.png in 0m 8s\n",
            "parse 007159.png in 0m 9s\n",
            "parse 004873.png in 0m 7s\n",
            "parse 002411.png in 0m 7s\n",
            "parse 007490.png in 0m 7s\n",
            "parse 009671.png in 0m 7s\n",
            "parse 005273.png in 0m 8s\n",
            "parse 005782.png in 0m 6s\n",
            "parse 005669.png in 0m 6s\n",
            "parse 003027.png in 0m 6s\n",
            "parse 005566.png in 0m 7s\n",
            "parse 004386.png in 0m 6s\n",
            "parse 004962.png in 0m 7s\n",
            "parse 000367.png in 0m 8s\n",
            "parse 009121.png in 0m 7s\n",
            "parse 007790.png in 0m 7s\n",
            "parse 002134.png in 0m 8s\n",
            "parse 002180.png in 0m 8s\n",
            "parse 000977.png in 0m 7s\n",
            "parse 009411.png in 0m 7s\n",
            "parse 009045.png in 0m 8s\n",
            "parse 008037.png in 0m 7s\n",
            "parse 007821.png in 0m 7s\n",
            "parse 009406.png in 0m 6s\n",
            "parse 009718.png in 0m 9s\n",
            "parse 002490.png in 0m 8s\n",
            "parse 003165.png in 0m 4s\n",
            "parse 009959.png in 0m 7s\n",
            "train positive num: 65\n",
            "train negative num: 40437\n",
            "parse 003891.png in 0m 7s\n",
            "parse 009822.png in 0m 9s\n",
            "parse 005979.png in 0m 7s\n",
            "parse 006325.png in 0m 10s\n",
            "parse 005588.png in 0m 7s\n",
            "parse 004087.png in 0m 7s\n",
            "parse 000653.png in 0m 8s\n",
            "parse 006396.png in 0m 3s\n",
            "parse 006668.png in 0m 8s\n",
            "parse 009116.png in 0m 7s\n",
            "parse 008429.png in 0m 7s\n",
            "parse 006235.png in 0m 7s\n",
            "parse 000338.png in 0m 6s\n",
            "parse 001862.png in 0m 7s\n",
            "parse 007622.png in 0m 7s\n",
            "parse 008562.png in 0m 8s\n",
            "parse 009053.png in 0m 7s\n",
            "parse 003820.png in 0m 8s\n",
            "parse 009015.png in 0m 7s\n",
            "parse 007525.png in 0m 8s\n",
            "parse 000233.png in 0m 8s\n",
            "parse 008031.png in 0m 8s\n",
            "parse 003117.png in 0m 6s\n",
            "parse 005988.png in 0m 7s\n",
            "parse 006918.png in 0m 7s\n",
            "parse 000251.png in 0m 11s\n",
            "parse 000329.png in 0m 6s\n",
            "parse 002566.png in 0m 7s\n",
            "parse 003721.png in 0m 6s\n",
            "parse 002563.png in 0m 6s\n",
            "parse 007921.png in 0m 7s\n",
            "parse 006206.png in 0m 8s\n",
            "parse 002248.png in 0m 7s\n",
            "val positive num: 56\n",
            "val negative num: 31044\n"
          ],
          "name": "stdout"
        }
      ]
    },
    {
      "cell_type": "markdown",
      "metadata": {
        "id": "Xr-R3AT-PDp3"
      },
      "source": [
        "#### create_bbox_regression_data.py : Bounding box regressor 학습을 위한 annotation 생성\n",
        "https://github.com/object-detection-algorithm/R-CNN/blob/master/py/utils/data/create_bbox_regression_data.py"
      ]
    },
    {
      "cell_type": "code",
      "metadata": {
        "colab": {
          "base_uri": "https://localhost:8080/"
        },
        "id": "0ov_dBP4MX5l",
        "outputId": "272df1f5-bf73-4703-c6aa-609dc6403e18"
      },
      "source": [
        "voc_car_train_dir = './voc_car/train'\n",
        "# ground truth\n",
        "gt_annotation_dir = os.path.join(voc_car_train_dir, 'Annotations')\n",
        "jpeg_dir = os.path.join(voc_car_train_dir, 'JPEGImages')\n",
        "\n",
        "classifier_car_train_dir = './finetune_car/train'\n",
        "# positive\n",
        "positive_annotation_dir = os.path.join(classifier_car_train_dir, 'Annotations')\n",
        "\n",
        "\n",
        "dst_root_dir = './bbox_regression/'\n",
        "dst_jpeg_dir = os.path.join(dst_root_dir, 'JPEGImages')\n",
        "dst_bndbox_dir = os.path.join(dst_root_dir, 'bndboxs')\n",
        "dst_positive_dir = os.path.join(dst_root_dir, 'positive')\n",
        "\n",
        "if not os.path.exists(dst_root_dir):\n",
        "  os.mkdir(dst_root_dir)\n",
        "if not os.path.exists(dst_jpeg_dir):\n",
        "  os.mkdir(dst_jpeg_dir)\n",
        "if not os.path.exists(dst_bndbox_dir):\n",
        "  os.mkdir(dst_bndbox_dir)\n",
        "if not os.path.exists(dst_positive_dir):\n",
        "  os.mkdir(dst_positive_dir)\n",
        "\n",
        "samples = np.loadtxt(os.path.join(voc_car_train_dir, 'car.csv'), dtype = np.str)\n",
        "\n",
        "\"\"\"\n",
        "Extract the bounding box coordinates of the label from the voc_car/train directory\n",
        "Extract the positive sample coordinates of the training set (IoU>=0.5) from the finetune_car/train directory, \n",
        "and further extract the bounding box with IoU>0.6\n",
        "The data set is saved in the bbox_car directory\n",
        "\"\"\"\n",
        "res_samples = list()\n",
        "total_positive_num = 0\n",
        "for sample_name in samples:\n",
        "    # Extract positive sample bounding box coordinates（IoU>=0.5）\n",
        "    positive_annotation_path = os.path.join(positive_annotation_dir, sample_name + '_1.csv')\n",
        "    positive_bndboxes = np.loadtxt(positive_annotation_path, dtype=np.int, delimiter=' ')\n",
        "\n",
        "    # Extract label bounding box\n",
        "    gt_annotation_path = os.path.join(gt_annotation_dir, sample_name + '.xml')\n",
        "    bndboxs = parse_xml(gt_annotation_path)\n",
        "\n",
        "    # Calculate candidate suggestions that meet the criteria (IoU>0.6)\n",
        "    positive_list = list()\n",
        "    if len(positive_bndboxes.shape) == 1 and len(positive_bndboxes) != 0:\n",
        "        scores = iou(positive_bndboxes, bndboxs)\n",
        "        if np.max(scores) > 0.6:\n",
        "            positive_list.append(positive_bndboxes)\n",
        "    elif len(positive_bndboxes.shape) == 2:\n",
        "        for positive_bndboxe in positive_bndboxes:\n",
        "            scores = iou(positive_bndboxe, bndboxs)\n",
        "            if np.max(scores) > 0.6:\n",
        "                positive_list.append(positive_bndboxe)\n",
        "    else:\n",
        "        pass\n",
        "\n",
        "    # If there is a positive sample bounding box (IoU>0.6), \n",
        "    # then save the corresponding picture and label the bounding box\n",
        "    if len(positive_list) > 0:\n",
        "        jpeg_path = os.path.join(jpeg_dir, sample_name + \".jpg\")\n",
        "        dst_jpeg_path = os.path.join(dst_jpeg_dir, sample_name + \".jpg\")\n",
        "        shutil.copyfile(jpeg_path, dst_jpeg_path)\n",
        "        # Save label bounding box\n",
        "        dst_bndbox_path = os.path.join(dst_bndbox_dir, sample_name + \".csv\")\n",
        "        np.savetxt(dst_bndbox_path, bndboxs, fmt='%s', delimiter=' ')\n",
        "        # Save positive sample bounding box\n",
        "        dst_positive_path = os.path.join(dst_positive_dir, sample_name + \".csv\")\n",
        "        np.savetxt(dst_positive_path, np.array(positive_list), fmt='%s', delimiter=' ')\n",
        "\n",
        "        total_positive_num += len(positive_list)\n",
        "        res_samples.append(sample_name)\n",
        "        print('save {} done'.format(sample_name))\n",
        "    else:\n",
        "        print('-------- {} ineligible'.format(sample_name))\n",
        "\n",
        "dst_csv_path = os.path.join(dst_root_dir, 'car.csv')\n",
        "np.savetxt(dst_csv_path, res_samples, fmt='%s', delimiter=' ')\n",
        "print('total positive num: {}'.format(total_positive_num))"
      ],
      "execution_count": null,
      "outputs": [
        {
          "output_type": "stream",
          "text": [
            "save 008174 done\n",
            "save 002804 done\n",
            "save 005536 done\n",
            "save 009358 done\n",
            "save 003555 done\n",
            "save 009845 done\n",
            "save 006210 done\n",
            "save 007667 done\n",
            "save 001937 done\n",
            "save 008968 done\n",
            "save 007159 done\n",
            "save 004873 done\n",
            "save 002411 done\n",
            "save 007490 done\n",
            "save 009671 done\n",
            "save 005273 done\n",
            "save 005782 done\n",
            "save 005669 done\n",
            "save 003027 done\n",
            "save 005566 done\n",
            "save 004386 done\n",
            "save 004962 done\n",
            "save 000367 done\n",
            "save 009121 done\n",
            "save 007790 done\n",
            "save 002134 done\n",
            "save 002180 done\n",
            "save 000977 done\n",
            "save 009411 done\n",
            "save 009045 done\n",
            "save 008037 done\n",
            "save 007821 done\n",
            "save 009406 done\n",
            "save 009718 done\n",
            "save 002490 done\n",
            "save 003165 done\n",
            "save 009959 done\n",
            "total positive num: 3274\n"
          ],
          "name": "stdout"
        }
      ]
    },
    {
      "cell_type": "markdown",
      "metadata": {
        "id": "5HA9FvpTjmMp"
      },
      "source": [
        "### 3. 모델별 Custom Dataset 정의"
      ]
    },
    {
      "cell_type": "markdown",
      "metadata": {
        "id": "V-FBfTSRj1Kk"
      },
      "source": [
        "#### custom_finetune_dataset.py : AlexNet fine tune하기 위한 Custom Dataset 정의\n",
        "\n",
        "https://github.com/object-detection-algorithm/R-CNN/blob/a7a66144a1809cde728052b4c392ef7d92fdab97/py/utils/data/custom_finetune_dataset.py\n",
        "\n",
        "AlexNet 모델은 양성/음성 sample에 해당하는 이미지를 mini batch로 입력받아 학습합니다. CustomFinetuneDataset에서 생성자(__init__)를 통해 앞서 생성한 csv 파일을 읽어들어 postive sample과 negative sample을 서로 다른 리스트에 저장합니다. 그리고 __getitem__ 메서드는 index를 파라미터로 받아, index에 맞는 이미지와 target(양성/음성 여부)를 반환합니다. "
      ]
    },
    {
      "cell_type": "code",
      "metadata": {
        "id": "GPEGyrSxj0gx"
      },
      "source": [
        "class CustomFinetuneDataset():\n",
        "    def __init__(self, root_dir, transform=None):\n",
        "        samples = np.loadtxt(os.path.join(root_dir, 'car.csv'), dtype=np.str)\n",
        "\n",
        "        jpeg_images = [cv2.imread(os.path.join(root_dir, 'JPEGImages', sample_name + \".jpg\"))\n",
        "                       for sample_name in samples]\n",
        "\n",
        "        positive_annotations = [os.path.join(root_dir, 'Annotations', sample_name + '_1.csv')\n",
        "                                for sample_name in samples]\n",
        "        negative_annotations = [os.path.join(root_dir, 'Annotations', sample_name + '_0.csv')\n",
        "                                for sample_name in samples]\n",
        "\n",
        "        # Bounding box size\n",
        "        positive_sizes = list()\n",
        "        negative_sizes = list()\n",
        "        # Bounding box coordinates\n",
        "        positive_rects = list()\n",
        "        negative_rects = list()\n",
        "\n",
        "        for annotation_path in positive_annotations:\n",
        "            rects = np.loadtxt(annotation_path, dtype=np.int, delimiter=' ')\n",
        "            # The existing file is empty or there is only a single line of data in the file\n",
        "            if len(rects.shape) == 1:\n",
        "                # Is it a single line\n",
        "                if rects.shape[0] == 4:\n",
        "                    positive_rects.append(rects)\n",
        "                    positive_sizes.append(1)\n",
        "                else:\n",
        "                    positive_sizes.append(0)\n",
        "            else:\n",
        "                positive_rects.extend(rects)\n",
        "                positive_sizes.append(len(rects))\n",
        "        for annotation_path in negative_annotations:\n",
        "            rects = np.loadtxt(annotation_path, dtype=np.int, delimiter=' ')\n",
        "            # Same as the positive sample rule\n",
        "            if len(rects.shape) == 1:\n",
        "                if rects.shape[0] == 4:\n",
        "                    negative_rects.append(rects)\n",
        "                    negative_sizes.append(1)\n",
        "                else:\n",
        "                    positive_sizes.append(0)\n",
        "            else:\n",
        "                negative_rects.extend(rects)\n",
        "                negative_sizes.append(len(rects))\n",
        "\n",
        "        self.transform = transform\n",
        "        self.jpeg_images = jpeg_images\n",
        "        self.positive_sizes = positive_sizes\n",
        "        self.negative_sizes = negative_sizes\n",
        "        self.positive_rects = positive_rects\n",
        "        self.negative_rects = negative_rects\n",
        "        self.total_positive_num = int(np.sum(positive_sizes))\n",
        "        self.total_negative_num = int(np.sum(negative_sizes))\n",
        "\n",
        "    def __getitem__(self, index: int):\n",
        "        # Position the image to which the subscript belongs\n",
        "        image_id = len(self.jpeg_images) - 1\n",
        "        if index < self.total_positive_num:\n",
        "            # Positive sample\n",
        "            target = 1\n",
        "            xmin, ymin, xmax, ymax = self.positive_rects[index]\n",
        "            # Find the image\n",
        "            for i in range(len(self.positive_sizes) - 1):\n",
        "                if np.sum(self.positive_sizes[:i]) <= index < np.sum(self.positive_sizes[:(i + 1)]):\n",
        "                    image_id = i\n",
        "                    break\n",
        "            image = self.jpeg_images[image_id][ymin:ymax, xmin:xmax]\n",
        "        else:\n",
        "            # Negative sample\n",
        "            target = 0\n",
        "            idx = index - self.total_positive_num\n",
        "            xmin, ymin, xmax, ymax = self.negative_rects[idx]\n",
        "            # Find the image\n",
        "            for i in range(len(self.negative_sizes) - 1):\n",
        "                if np.sum(self.negative_sizes[:i]) <= idx < np.sum(self.negative_sizes[:(i + 1)]):\n",
        "                    image_id = i\n",
        "                    break\n",
        "            image = self.jpeg_images[image_id][ymin:ymax, xmin:xmax]\n",
        "\n",
        "        # print('index: %d image_id: %d target: %d image.shape: %s [xmin, ymin, xmax, ymax]: [%d, %d, %d, %d]' %\n",
        "        #       (index, image_id, target, str(image.shape), xmin, ymin, xmax, ymax))\n",
        "        if self.transform:\n",
        "            image = self.transform(image)\n",
        "\n",
        "        return image, target\n",
        "\n",
        "    def __len__(self) -> int:\n",
        "        return self.total_positive_num + self.total_negative_num\n",
        "\n",
        "    def get_positive_num(self) -> int:\n",
        "        return self.total_positive_num\n",
        "\n",
        "    def get_negative_num(self) -> int:\n",
        "        return self.total_negative_num"
      ],
      "execution_count": null,
      "outputs": []
    },
    {
      "cell_type": "code",
      "metadata": {
        "id": "EMJ-rViOmT-b"
      },
      "source": [
        "from google.colab.patches import cv2_imshow\n",
        "\n",
        "def test_finetune(idx):\n",
        "    root_dir = './finetune_car/train'\n",
        "    train_data_set = CustomFinetuneDataset(root_dir)\n",
        "\n",
        "    print('positive num: %d' % train_data_set.get_positive_num())\n",
        "    print('negative num: %d' % train_data_set.get_negative_num())\n",
        "    print('total num: %d' % train_data_set.__len__())\n",
        "\n",
        "    image, target = train_data_set.__getitem__(idx)\n",
        "    print('target: %d' % target)\n",
        "\n",
        "    # image = Image.fromarray(image)\n",
        "    # print(image)\n",
        "    # print(type(image))\n",
        "\n",
        "    cv2_imshow(image)\n",
        "    cv2.waitKey(0)"
      ],
      "execution_count": null,
      "outputs": []
    },
    {
      "cell_type": "code",
      "metadata": {
        "colab": {
          "base_uri": "https://localhost:8080/",
          "height": 337
        },
        "id": "CMQskCSjnFe7",
        "outputId": "b4ed02d0-57ef-4317-9011-f0ca6a1982b3"
      },
      "source": [
        "# test_finetune(8801)\n",
        "# test_finetune(9834)\n",
        "test_finetune(5593)"
      ],
      "execution_count": null,
      "outputs": [
        {
          "output_type": "stream",
          "text": [
            "positive num: 6167\n",
            "negative num: 50251\n",
            "total num: 56418\n",
            "target: 1\n"
          ],
          "name": "stdout"
        },
        {
          "output_type": "display_data",
          "data": {
            "image/png": "[encoded data removed]",
            "text/plain": [
              "<PIL.Image.Image image mode=RGB size=336x245 at 0x7F2F7EFB9590>"
            ]
          },
          "metadata": {
            "tags": []
          }
        }
      ]
    },
    {
      "cell_type": "markdown",
      "metadata": {
        "id": "zr2lwmzMkdcc"
      },
      "source": [
        "\n",
        "#### custom_classifier_dataset.py : linear SVM 모델을 학습시키기 위한 Custom Dataset 정의\n",
        "https://github.com/object-detection-algorithm/R-CNN/blob/a7a66144a1809cde728052b4c392ef7d92fdab97/py/utils/data/custom_classifier_dataset.py\n",
        "\n"
      ]
    },
    {
      "cell_type": "code",
      "metadata": {
        "id": "NiiQDXrPkhdN"
      },
      "source": [
        "from torch.utils.data import Dataset\n",
        "class CustomClassifierDataset(Dataset):\n",
        "\n",
        "    def __init__(self, root_dir, transform=None):\n",
        "        samples = np.loadtxt(os.path.join(root_dir, 'car.csv'), dtype=np.str)\n",
        "\n",
        "        jpeg_images = list()\n",
        "        positive_list = list()\n",
        "        negative_list = list()\n",
        "        for idx in range(len(samples)):\n",
        "            sample_name = samples[idx]\n",
        "            jpeg_images.append(cv2.imread(os.path.join(root_dir, 'JPEGImages', sample_name + \".jpg\")))\n",
        "\n",
        "            positive_annotation_path = os.path.join(root_dir, 'Annotations', sample_name + '_1.csv')\n",
        "            positive_annotations = np.loadtxt(positive_annotation_path, dtype=np.int, delimiter=' ')\n",
        "            # Consider that the csv file is empty or contains only a single label box\n",
        "            if len(positive_annotations.shape) == 1:\n",
        "                # Single label frame coordinates\n",
        "                if positive_annotations.shape[0] == 4:\n",
        "                    positive_dict = dict()\n",
        "\n",
        "                    positive_dict['rect'] = positive_annotations\n",
        "                    positive_dict['image_id'] = idx\n",
        "                    # positive_dict['image_name'] = sample_name\n",
        "\n",
        "                    positive_list.append(positive_dict)\n",
        "            else:\n",
        "                for positive_annotation in positive_annotations:\n",
        "                    positive_dict = dict()\n",
        "\n",
        "                    positive_dict['rect'] = positive_annotation\n",
        "                    positive_dict['image_id'] = idx\n",
        "                    # positive_dict['image_name'] = sample_name\n",
        "\n",
        "                    positive_list.append(positive_dict)\n",
        "\n",
        "            negative_annotation_path = os.path.join(root_dir, 'Annotations', sample_name + '_0.csv')\n",
        "            negative_annotations = np.loadtxt(negative_annotation_path, dtype=np.int, delimiter=' ')\n",
        "            # Consider that the csv file is empty or contains only a single label box\n",
        "            if len(negative_annotations.shape) == 1:\n",
        "                # Single label frame coordinates\n",
        "                if negative_annotations.shape[0] == 4:\n",
        "                    negative_dict = dict()\n",
        "\n",
        "                    negative_dict['rect'] = negative_annotations\n",
        "                    negative_dict['image_id'] = idx\n",
        "                    # negative_dict['image_name'] = sample_name\n",
        "\n",
        "                    negative_list.append(negative_dict)\n",
        "            else:\n",
        "                for negative_annotation in negative_annotations:\n",
        "                    negative_dict = dict()\n",
        "\n",
        "                    negative_dict['rect'] = negative_annotation\n",
        "                    negative_dict['image_id'] = idx\n",
        "                    # negative_dict['image_name'] = sample_name\n",
        "\n",
        "                    negative_list.append(negative_dict)\n",
        "\n",
        "        self.transform = transform\n",
        "        self.jpeg_images = jpeg_images\n",
        "        self.positive_list = positive_list\n",
        "        self.negative_list = negative_list\n",
        "\n",
        "    def __getitem__(self, index: int):\n",
        "        # Position the image to which the subscript belongs\n",
        "        if index < len(self.positive_list):\n",
        "            # Positive sample\n",
        "            target = 1\n",
        "            positive_dict = self.positive_list[index]\n",
        "\n",
        "            xmin, ymin, xmax, ymax = positive_dict['rect']\n",
        "            image_id = positive_dict['image_id']\n",
        "\n",
        "            image = self.jpeg_images[image_id][ymin:ymax, xmin:xmax]\n",
        "            cache_dict = positive_dict\n",
        "        else:\n",
        "            # Negative sample\n",
        "            target = 0\n",
        "            idx = index - len(self.positive_list)\n",
        "            negative_dict = self.negative_list[idx]\n",
        "\n",
        "            xmin, ymin, xmax, ymax = negative_dict['rect']\n",
        "            image_id = negative_dict['image_id']\n",
        "\n",
        "            image = self.jpeg_images[image_id][ymin:ymax, xmin:xmax]\n",
        "            cache_dict = negative_dict\n",
        "\n",
        "        # print('index: %d image_id: %d target: %d image.shape: %s [xmin, ymin, xmax, ymax]: [%d, %d, %d, %d]' %\n",
        "        #       (index, image_id, target, str(image.shape), xmin, ymin, xmax, ymax))\n",
        "        if self.transform:\n",
        "            image = self.transform(image)\n",
        "\n",
        "        return image, target, cache_dict\n",
        "\n",
        "    def __len__(self) -> int:\n",
        "        return len(self.positive_list) + len(self.negative_list)\n",
        "\n",
        "    def get_transform(self):\n",
        "        return self.transform\n",
        "\n",
        "    def get_jpeg_images(self) -> list:\n",
        "        return self.jpeg_images\n",
        "\n",
        "    def get_positive_num(self) -> int:\n",
        "        return len(self.positive_list)\n",
        "\n",
        "    def get_negative_num(self) -> int:\n",
        "        return len(self.negative_list)\n",
        "\n",
        "    def get_positives(self) -> list:\n",
        "        return self.positive_list\n",
        "\n",
        "    def get_negatives(self) -> list:\n",
        "        return self.negative_list\n",
        "\n",
        "    # Used for hard negative mining\n",
        "    # Replace negative samples\n",
        "    def set_negative_list(self, negative_list):\n",
        "        self.negative_list = negative_list"
      ],
      "execution_count": null,
      "outputs": []
    },
    {
      "cell_type": "code",
      "metadata": {
        "id": "kQkLXLvtpKbC"
      },
      "source": [
        "from google.colab.patches import cv2_imshow\n",
        "\n",
        "def test_classifier(idx):\n",
        "    root_dir = './classifier_car/val'\n",
        "    train_data_set = CustomClassifierDataset(root_dir)\n",
        "\n",
        "    print('positive num: %d' % train_data_set.get_positive_num())\n",
        "    print('negative num: %d' % train_data_set.get_negative_num())\n",
        "    print('total num: %d' % train_data_set.__len__())\n",
        "\n",
        "    image, target, cache_dict = train_data_set.__getitem__(idx)\n",
        "    print('target: %d' % target)\n",
        "    print('dict: ' + str(cache_dict))\n",
        "\n",
        "    cv2_imshow(image)\n",
        "    cv2.waitKey(0)"
      ],
      "execution_count": null,
      "outputs": []
    },
    {
      "cell_type": "code",
      "metadata": {
        "colab": {
          "base_uri": "https://localhost:8080/",
          "height": 143
        },
        "id": "yCy0cBVXpOcT",
        "outputId": "aa64a81a-6308-499a-bfd7-8d55acd8ccad"
      },
      "source": [
        "test_classifier(3)\n",
        "# test_classifier(317)\n",
        "# test_classifier(5830)"
      ],
      "execution_count": null,
      "outputs": [
        {
          "output_type": "stream",
          "text": [
            "positive num: 56\n",
            "negative num: 31044\n",
            "total num: 31100\n",
            "target: 1\n",
            "dict: {'rect': array([113, 170, 150, 203]), 'image_id': 1}\n"
          ],
          "name": "stdout"
        },
        {
          "output_type": "display_data",
          "data": {
            "image/png": "[encoded data removed]",
            "text/plain": [
              "<PIL.Image.Image image mode=RGB size=37x33 at 0x7F2F75BFE210>"
            ]
          },
          "metadata": {
            "tags": []
          }
        }
      ]
    },
    {
      "cell_type": "markdown",
      "metadata": {
        "id": "CM2h9WPjkhuh"
      },
      "source": [
        "\n",
        "#### custom_bbox_regression_dataset.py : Bounding box regressor 모델을 학습시키기 위한 Custom Dataset 정의\n",
        "\n",
        "https://github.com/object-detection-algorithm/R-CNN/blob/a7a66144a1809cde728052b4c392ef7d92fdab97/py/utils/data/create_bbox_regression_data.py\n",
        "\n",
        "Bounding box regressor의 경우, 이미지 자체를 학습 데이터로 사용하는 것이 아니라 이미지 내의 bounding box의 좌표를 변환시켜주는 값(t_x, t_y)을 학습합니다.\n"
      ]
    },
    {
      "cell_type": "code",
      "metadata": {
        "id": "jLHwJl2HkkGz"
      },
      "source": [
        "class BBoxRegressionDataset():\n",
        "    def __init__(self, root_dir, transform=None):\n",
        "        super(BBoxRegressionDataset, self).__init__()\n",
        "        self.transform = transform\n",
        "\n",
        "        samples = np.loadtxt(os.path.join(root_dir, 'car.csv'), dtype=np.str)\n",
        "        jpeg_list = list()\n",
        "        # save {'image_id': ?, 'positive': ?, 'bndbox': ?}\n",
        "        box_list = list()\n",
        "        for i in range(len(samples)):\n",
        "            sample_name = samples[i]\n",
        "\n",
        "            jpeg_path = os.path.join(root_dir, 'JPEGImages', sample_name + '.jpg')\n",
        "            bndbox_path = os.path.join(root_dir, 'bndboxs', sample_name + '.csv')\n",
        "            positive_path = os.path.join(root_dir, 'positive', sample_name + '.csv')\n",
        "\n",
        "            jpeg_list.append(cv2.imread(jpeg_path))\n",
        "            bndboxes = np.loadtxt(bndbox_path, dtype=np.int, delimiter=' ')\n",
        "            positives = np.loadtxt(positive_path, dtype=np.int, delimiter=' ')\n",
        "\n",
        "            if len(positives.shape) == 1:\n",
        "                bndbox = self.get_bndbox(bndboxes, positives)\n",
        "                box_list.append({'image_id': i, 'positive': positives, 'bndbox': bndbox})\n",
        "            else:\n",
        "                for positive in positives:\n",
        "                    bndbox = self.get_bndbox(bndboxes, positive)\n",
        "                    box_list.append({'image_id': i, 'positive': positive, 'bndbox': bndbox})\n",
        "\n",
        "        self.jpeg_list = jpeg_list\n",
        "        self.box_list = box_list\n",
        "\n",
        "    def __getitem__(self, index: int):\n",
        "        assert index < self.__len__(), 'The data set size is %d, and the current input subscript is %d' % (self.__len__(), index)\n",
        "\n",
        "        box_dict = self.box_list[index]\n",
        "        image_id = box_dict['image_id']\n",
        "        positive = box_dict['positive']\n",
        "        bndbox = box_dict['bndbox']\n",
        "\n",
        "        # Get predicted image\n",
        "        jpeg_img = self.jpeg_list[image_id]\n",
        "        xmin, ymin, xmax, ymax = positive\n",
        "        image = jpeg_img[ymin:ymax, xmin:xmax]\n",
        "\n",
        "        if self.transform:\n",
        "            image = self.transform(image)\n",
        "\n",
        "        # Calculate x/y/w/h of P/G\n",
        "        target = dict()\n",
        "        p_w = xmax - xmin\n",
        "        p_h = ymax - ymin\n",
        "        p_x = xmin + p_w / 2\n",
        "        p_y = ymin + p_h / 2\n",
        "\n",
        "        xmin, ymin, xmax, ymax = bndbox\n",
        "        g_w = xmax - xmin\n",
        "        g_h = ymax - ymin\n",
        "        g_x = xmin + g_w / 2\n",
        "        g_y = ymin + g_h / 2\n",
        "\n",
        "        # Calculate t\n",
        "        t_x = (g_x - p_x) / p_w\n",
        "        t_y = (g_y - p_y) / p_h\n",
        "        t_w = np.log(g_w / p_w)\n",
        "        t_h = np.log(g_h / p_h)\n",
        "\n",
        "        return image, np.array((t_x, t_y, t_w, t_h))\n",
        "\n",
        "    def __len__(self):\n",
        "        return len(self.box_list)\n",
        "\n",
        "    def get_bndbox(self, bndboxes, positive):\n",
        "        \"\"\"\n",
        "        Return and positive IoU largest label bounding box\n",
        "        :param bndboxes: The size is [N, 4] or [4]\n",
        "        :param positive: The size is [4]\n",
        "        :return: [4]\n",
        "        \"\"\"\n",
        "\n",
        "        if len(bndboxes.shape) == 1:\n",
        "            # There is only one label bounding box, just go back\n",
        "            return bndboxes\n",
        "        else:\n",
        "            scores = iou(positive, bndboxes)\n",
        "            return bndboxes[np.argmax(scores)]\n",
        "\n"
      ],
      "execution_count": null,
      "outputs": []
    },
    {
      "cell_type": "code",
      "metadata": {
        "id": "0Mh3azv0t71N"
      },
      "source": [
        "import torchvision.transforms as transforms\n",
        "\n",
        "def test_bbox():\n",
        "    \"\"\"\n",
        "    Create an instance of the dataset class\n",
        "    \"\"\"\n",
        "    transform = transforms.Compose([\n",
        "        transforms.ToPILImage(),\n",
        "        transforms.Resize((227, 227)),\n",
        "        transforms.RandomHorizontalFlip(),\n",
        "        transforms.ToTensor(),\n",
        "        transforms.Normalize((0.5, 0.5, 0.5), (0.5, 0.5, 0.5))\n",
        "    ])\n",
        "\n",
        "    data_root_dir = './bbox_regression'\n",
        "    data_set = BBoxRegressionDataset(data_root_dir, transform=transform)\n",
        "\n",
        "    print(data_set.__len__())\n",
        "    image, target = data_set.__getitem__(10)\n",
        "    print(image.shape)\n",
        "    print(target)\n",
        "    print(target.dtype)"
      ],
      "execution_count": null,
      "outputs": []
    },
    {
      "cell_type": "code",
      "metadata": {
        "colab": {
          "base_uri": "https://localhost:8080/"
        },
        "id": "xFXkzBP8uKz9",
        "outputId": "18b28d77-0d75-41bf-958c-d55c492de2c7"
      },
      "source": [
        "test_bbox()"
      ],
      "execution_count": null,
      "outputs": [
        {
          "output_type": "stream",
          "text": [
            "3274\n",
            "torch.Size([3, 227, 227])\n",
            "[ 0.041       0.00791139 -0.08555789  0.00944889]\n",
            "float64\n"
          ],
          "name": "stdout"
        }
      ]
    },
    {
      "cell_type": "markdown",
      "metadata": {
        "id": "KUmBcICdkld6"
      },
      "source": [
        "\n",
        "#### custom_batch_sampler.py : 양성/음성 sample을 mini batch로 구성\n",
        "\n",
        "https://github.com/object-detection-algorithm/R-CNN/blob/a7a66144a1809cde728052b4c392ef7d92fdab97/py/utils/data/custom_batch_sampler.py\n",
        "\n",
        "양성/음성 sample로 mini batch를 구성합니다. CustomBatchSampler 클래스 생성자에서 양성/음성 sample과 각각의 sample 수를 인자로 받습니다. 반복자(__iter__)에서 양성/음성 sample을 지정된 sample 수에 맞게 저장한 후 shuffle해줍니다. \n"
      ]
    },
    {
      "cell_type": "code",
      "metadata": {
        "id": "8fwAUBugkmkR"
      },
      "source": [
        "from torch.utils.data import Sampler\n",
        "\n",
        "class CustomBatchSampler(Sampler):\n",
        "\n",
        "    def __init__(self, num_positive, num_negative, batch_positive, batch_negative) -> None:\n",
        "        \"\"\"\n",
        "        2 classification data set\n",
        "        Batch processing each time, including batch_positive positive samples and batch_negative negative samples\n",
        "        @param num_positive: number of positive samples\n",
        "        @param num_negative: number of negative samples\n",
        "        @param batch_positive: the number of positive samples at a time\n",
        "        @param batch_negative: number of negative samples at a time\n",
        "        \"\"\"\n",
        "        self.num_positive = num_positive\n",
        "        self.num_negative = num_negative\n",
        "        self.batch_positive = batch_positive\n",
        "        self.batch_negative = batch_negative\n",
        "\n",
        "        length = num_positive + num_negative\n",
        "        self.idx_list = list(range(length))\n",
        "\n",
        "        self.batch = batch_negative + batch_positive\n",
        "        self.num_iter = length // self.batch\n",
        "\n",
        "    def __iter__(self):\n",
        "        sampler_list = list()\n",
        "        for i in range(self.num_iter):\n",
        "            tmp = np.concatenate(\n",
        "                (random.sample(self.idx_list[:self.num_positive], self.batch_positive),\n",
        "                 random.sample(self.idx_list[self.num_positive:], self.batch_negative))\n",
        "            )\n",
        "            random.shuffle(tmp)\n",
        "            sampler_list.extend(tmp)\n",
        "        return iter(sampler_list)\n",
        "\n",
        "    def __len__(self) -> int:\n",
        "        return self.num_iter * self.batch\n",
        "\n",
        "    def get_num_batch(self) -> int:\n",
        "        return self.num_iter\n"
      ],
      "execution_count": null,
      "outputs": []
    },
    {
      "cell_type": "code",
      "metadata": {
        "id": "Oaud7p3luryR"
      },
      "source": [
        "def test_batch():\n",
        "    root_dir = './finetune_car/train'\n",
        "    train_data_set = CustomFinetuneDataset(root_dir)\n",
        "    train_sampler = CustomBatchSampler(train_data_set.get_positive_num(), train_data_set.get_negative_num(), 32, 96)\n",
        "\n",
        "    print('sampler len: %d' % train_sampler.__len__())\n",
        "    print('sampler batch num: %d' % train_sampler.get_num_batch())\n",
        "\n",
        "    first_idx_list = list(train_sampler.__iter__())[:128]\n",
        "    print(first_idx_list)\n",
        "    # Number of positive samples in a batch\n",
        "    print('positive batch: %d' % np.sum(np.array(first_idx_list) < 66517))"
      ],
      "execution_count": null,
      "outputs": []
    },
    {
      "cell_type": "code",
      "metadata": {
        "colab": {
          "base_uri": "https://localhost:8080/"
        },
        "id": "toToE2FOu2Hr",
        "outputId": "45c74c68-00ee-4b34-def9-6d0ce31de802"
      },
      "source": [
        "test_batch()"
      ],
      "execution_count": null,
      "outputs": [
        {
          "output_type": "stream",
          "text": [
            "sampler len: 56320\n",
            "sampler batch num: 440\n",
            "[53806, 5602, 19482, 19269, 46087, 28714, 45515, 15671, 21431, 2064, 48388, 20578, 32931, 33266, 31979, 327, 45202, 14537, 41948, 1519, 40833, 1570, 39799, 11539, 30686, 1422, 41242, 37606, 28200, 44872, 4626, 46907, 46681, 21800, 19686, 18019, 48837, 50545, 39513, 37404, 6881, 24372, 4925, 46696, 124, 2644, 2784, 20842, 9604, 6819, 14833, 50714, 19249, 54972, 10047, 35102, 4697, 1167, 28434, 32584, 36389, 15111, 51955, 36202, 9122, 32221, 17601, 4038, 52621, 54788, 4073, 31011, 32424, 17063, 5471, 453, 3082, 1129, 48568, 14178, 35135, 36736, 49519, 45408, 1075, 47310, 40132, 49553, 45557, 18833, 6128, 4770, 6794, 54521, 44521, 46037, 14269, 54818, 4654, 30633, 29418, 21659, 50380, 45331, 52493, 2235, 33119, 2487, 694, 1930, 45333, 29164, 46704, 22924, 970, 3651, 2654, 8688, 14504, 15524, 6313, 26642, 3658, 36275, 3637, 50953, 53450, 46241]\n",
            "positive batch: 128\n"
          ],
          "name": "stdout"
        }
      ]
    },
    {
      "cell_type": "markdown",
      "metadata": {
        "id": "5YEsek41km5G"
      },
      "source": [
        "\n",
        "#### custom_hard_negative_mining_dataset.py : Hard negative mining을 수행하기 위한 Custom Dataset 정의\n",
        "\n",
        "https://github.com/object-detection-algorithm/R-CNN/blob/a7a66144a1809cde728052b4c392ef7d92fdab97/py/utils/data/custom_hard_negative_mining_dataset.py"
      ]
    },
    {
      "cell_type": "code",
      "metadata": {
        "id": "wk4lMZxXkoKP"
      },
      "source": [
        "class CustomHardNegativeMiningDataset():\n",
        "    def __init__(self, negative_list, jpeg_images, transform=None):\n",
        "        self.negative_list = negative_list\n",
        "        self.jpeg_images = jpeg_images\n",
        "        self.transform = transform\n",
        "\n",
        "    def __getitem__(self, index: int):\n",
        "        target = 0\n",
        "\n",
        "        negative_dict = self.negative_list[index]\n",
        "        xmin, ymin, xmax, ymax = negative_dict['rect']\n",
        "        image_id = negative_dict['image_id']\n",
        "\n",
        "        image = self.jpeg_images[image_id][ymin:ymax, xmin:xmax]\n",
        "        if self.transform:\n",
        "            image = self.transform(image)\n",
        "\n",
        "        return image, target, negative_dict\n",
        "\n",
        "    def __len__(self) -> int:\n",
        "        return len(self.negative_list)\n"
      ],
      "execution_count": null,
      "outputs": []
    },
    {
      "cell_type": "code",
      "metadata": {
        "colab": {
          "base_uri": "https://localhost:8080/"
        },
        "id": "XRT8Wgx9vCu8",
        "outputId": "92498173-ace6-4016-b30c-5743515f76e9"
      },
      "source": [
        "root_dir = './classifier_car/train'\n",
        "data_set = CustomClassifierDataset(root_dir)\n",
        "\n",
        "negative_list = data_set.get_negatives()\n",
        "jpeg_images = data_set.get_jpeg_images()\n",
        "transform = data_set.get_transform()\n",
        "\n",
        "hard_negative_dataset = CustomHardNegativeMiningDataset(negative_list, jpeg_images, transform=transform)\n",
        "image, target, negative_dict = hard_negative_dataset.__getitem__(100)\n",
        "\n",
        "print(image.shape)\n",
        "print(target)\n",
        "print(negative_dict)"
      ],
      "execution_count": null,
      "outputs": [
        {
          "output_type": "stream",
          "text": [
            "(465, 500, 3)\n",
            "0\n",
            "{'rect': array([  0,  18, 500, 483]), 'image_id': 0}\n"
          ],
          "name": "stdout"
        }
      ]
    },
    {
      "cell_type": "markdown",
      "metadata": {
        "id": "D3NwAkCGvNBK"
      },
      "source": [
        "### 4. pre-trained된 AlexNet fine tuning\n",
        "\n",
        "3가지 모델 중 AlexNet을 가장 먼저 학습시켜줘야 합니다. linear SVM 및 Bounding box regressor 모델은 fine tune된 AlexNet에 학습 데이터를 입력시켜 얻은 feature vector를 통해 학습하기 때문입니다. \n",
        "\n",
        " \n"
      ]
    },
    {
      "cell_type": "markdown",
      "metadata": {
        "id": "FlqygFpcvWV7"
      },
      "source": [
        "#### finetune.py : 데이터를 load한 후 pre-trained된 AlexNet에 대한 fine tuning 수행\n",
        "\n",
        "https://github.com/object-detection-algorithm/R-CNN/blob/a7a66144a1809cde728052b4c392ef7d92fdab97/py/finetune.py\n",
        "\n",
        "먼저 pytorch에서 제공하는 transforms 메서드를 통해 AlexNet의 입력 이미지에 맞게 크기를 227x227로 resize시켜줍니다. 그 다음 CustomFinetuneDataset를 통해 데이터를 load시켜줍니다. 이 때 논문에서 언급한 바와 같이 positive sample은 32개, negative sample은 96개가 되도록 CustomBatchSampler를 통해 지정합니다. "
      ]
    },
    {
      "cell_type": "code",
      "metadata": {
        "id": "tfbGkYBAPG22"
      },
      "source": [
        "from torch.utils.data import DataLoader\n",
        "\n",
        "def load_data(data_root_dir):\n",
        "    transform = transforms.Compose([\n",
        "        transforms.ToPILImage(),\n",
        "        transforms.Resize((227, 227)),\n",
        "        transforms.RandomHorizontalFlip(),\n",
        "        transforms.ToTensor(),\n",
        "        transforms.Normalize((0.5, 0.5, 0.5), (0.5, 0.5, 0.5))\n",
        "    ])\n",
        "\n",
        "    data_loaders = {}\n",
        "    data_sizes = {}\n",
        "    for name in ['train', 'val']:\n",
        "        data_dir = os.path.join(data_root_dir, name)\n",
        "        data_set = CustomFinetuneDataset(data_dir, transform=transform)\n",
        "        data_sampler = CustomBatchSampler(data_set.get_positive_num(), data_set.get_negative_num(), 32, 96)\n",
        "        data_loader = DataLoader(data_set, batch_size=128, sampler=data_sampler, num_workers=8, drop_last=True)\n",
        "\n",
        "        data_loaders[name] = data_loader\n",
        "        data_sizes[name] = data_sampler.__len__()\n",
        "\n",
        "    return data_loaders, data_sizes"
      ],
      "execution_count": null,
      "outputs": []
    },
    {
      "cell_type": "code",
      "metadata": {
        "colab": {
          "base_uri": "https://localhost:8080/"
        },
        "id": "OAi1ZrtHvwRv",
        "outputId": "4fd0e73d-4fc4-4ac3-dd4f-3dbcc7b1b0fa"
      },
      "source": [
        "import torch\n",
        "\n",
        "device = torch.device(\"cuda:0\" if torch.cuda.is_available() else \"cpu\")\n",
        "\n",
        "data_loaders, data_sizes = load_data('./finetune_car')"
      ],
      "execution_count": null,
      "outputs": [
        {
          "output_type": "stream",
          "text": [
            "/usr/local/lib/python3.7/dist-packages/torch/utils/data/dataloader.py:477: UserWarning: This DataLoader will create 8 worker processes in total. Our suggested max number of worker in current system is 2, which is smaller than what this DataLoader is going to create. Please be aware that excessive worker creation might get DataLoader running slow or even freeze, lower the worker number to avoid potential slowness/freeze if necessary.\n",
            "  cpuset_checked))\n"
          ],
          "name": "stderr"
        }
      ]
    },
    {
      "cell_type": "code",
      "metadata": {
        "id": "YN9wJbC7vz2d"
      },
      "source": [
        "import copy\n",
        "\n",
        "def train_model(data_loaders, model, criterion, optimizer, lr_scheduler, num_epochs=25, device=None):\n",
        "    since = time.time()\n",
        "\n",
        "    best_model_weights = copy.deepcopy(model.state_dict())\n",
        "    best_acc = 0.0\n",
        "\n",
        "    for epoch in range(num_epochs):\n",
        "        print('Epoch {}/{}'.format(epoch, num_epochs - 1))\n",
        "        print('-' * 10)\n",
        "\n",
        "        # Each epoch has a training and validation phase\n",
        "        for phase in ['train', 'val']:\n",
        "            if phase == 'train':\n",
        "                model.train()  # Set model to training mode\n",
        "            else:\n",
        "                model.eval()  # Set model to evaluate mode\n",
        "\n",
        "            running_loss = 0.0\n",
        "            running_corrects = 0\n",
        "\n",
        "            # Iterate over data.\n",
        "            for inputs, labels in data_loaders[phase]:\n",
        "                inputs = inputs.to(device)\n",
        "                labels = labels.to(device)\n",
        "\n",
        "                # zero the parameter gradients\n",
        "                optimizer.zero_grad()\n",
        "\n",
        "                # forward\n",
        "                # track history if only in train\n",
        "                with torch.set_grad_enabled(phase == 'train'):\n",
        "                    outputs = model(inputs)\n",
        "                    _, preds = torch.max(outputs, 1)\n",
        "                    loss = criterion(outputs, labels)\n",
        "\n",
        "                    # backward + optimize only if in training phase\n",
        "                    if phase == 'train':\n",
        "                        loss.backward()\n",
        "                        optimizer.step()\n",
        "\n",
        "                # statistics\n",
        "                running_loss += loss.item() * inputs.size(0)\n",
        "                running_corrects += torch.sum(preds == labels.data)\n",
        "            if phase == 'train':\n",
        "                lr_scheduler.step()\n",
        "\n",
        "            epoch_loss = running_loss / data_sizes[phase]\n",
        "            epoch_acc = running_corrects.double() / data_sizes[phase]\n",
        "\n",
        "            print('{} Loss: {:.4f} Acc: {:.4f}'.format(\n",
        "                phase, epoch_loss, epoch_acc))\n",
        "\n",
        "            # deep copy the model\n",
        "            if phase == 'val' and epoch_acc > best_acc:\n",
        "                best_acc = epoch_acc\n",
        "                best_model_weights = copy.deepcopy(model.state_dict())\n",
        "\n",
        "        print()\n",
        "\n",
        "    time_elapsed = time.time() - since\n",
        "    print('Training complete in {:.0f}m {:.0f}s'.format(\n",
        "        time_elapsed // 60, time_elapsed % 60))\n",
        "    print('Best val Acc: {:4f}'.format(best_acc))\n",
        "\n",
        "    # load best model weights\n",
        "    model.load_state_dict(best_model_weights)\n",
        "    return model"
      ],
      "execution_count": null,
      "outputs": []
    },
    {
      "cell_type": "code",
      "metadata": {
        "colab": {
          "base_uri": "https://localhost:8080/",
          "height": 611,
          "referenced_widgets": [
            "636e518eebc54fb5b5a1d6754f2b1da1",
            "35c28cfe950a4af8b37f6222254d9e02",
            "c3bd42a1dcb1489ab3a89977e349b0ad",
            "7e3612499a23495682f91b475e247677",
            "9eb20f119b314852b9957f39ca6882d0",
            "ee3917267f8442939281643538fb892b",
            "8273ec2d6ae04f20b2cc363b55a4fac5",
            "0afd3ba72ea7401d81a4cc12c3656536"
          ]
        },
        "id": "2QvpZqD1wGID",
        "outputId": "2ed2decd-ada9-4f14-df76-27cea648d097"
      },
      "source": [
        "import torchvision.models as models\n",
        "\n",
        "model = models.alexnet(pretrained=True)\n",
        "print(model)"
      ],
      "execution_count": null,
      "outputs": [
        {
          "output_type": "stream",
          "text": [
            "Downloading: \"https://download.pytorch.org/models/alexnet-owt-4df8aa71.pth\" to /root/.cache/torch/hub/checkpoints/alexnet-owt-4df8aa71.pth\n"
          ],
          "name": "stderr"
        },
        {
          "output_type": "display_data",
          "data": {
            "application/vnd.jupyter.widget-view+json": {
              "model_id": "636e518eebc54fb5b5a1d6754f2b1da1",
              "version_minor": 0,
              "version_major": 2
            },
            "text/plain": [
              "HBox(children=(FloatProgress(value=0.0, max=244418560.0), HTML(value='')))"
            ]
          },
          "metadata": {
            "tags": []
          }
        },
        {
          "output_type": "stream",
          "text": [
            "\n",
            "AlexNet(\n",
            "  (features): Sequential(\n",
            "    (0): Conv2d(3, 64, kernel_size=(11, 11), stride=(4, 4), padding=(2, 2))\n",
            "    (1): ReLU(inplace=True)\n",
            "    (2): MaxPool2d(kernel_size=3, stride=2, padding=0, dilation=1, ceil_mode=False)\n",
            "    (3): Conv2d(64, 192, kernel_size=(5, 5), stride=(1, 1), padding=(2, 2))\n",
            "    (4): ReLU(inplace=True)\n",
            "    (5): MaxPool2d(kernel_size=3, stride=2, padding=0, dilation=1, ceil_mode=False)\n",
            "    (6): Conv2d(192, 384, kernel_size=(3, 3), stride=(1, 1), padding=(1, 1))\n",
            "    (7): ReLU(inplace=True)\n",
            "    (8): Conv2d(384, 256, kernel_size=(3, 3), stride=(1, 1), padding=(1, 1))\n",
            "    (9): ReLU(inplace=True)\n",
            "    (10): Conv2d(256, 256, kernel_size=(3, 3), stride=(1, 1), padding=(1, 1))\n",
            "    (11): ReLU(inplace=True)\n",
            "    (12): MaxPool2d(kernel_size=3, stride=2, padding=0, dilation=1, ceil_mode=False)\n",
            "  )\n",
            "  (avgpool): AdaptiveAvgPool2d(output_size=(6, 6))\n",
            "  (classifier): Sequential(\n",
            "    (0): Dropout(p=0.5, inplace=False)\n",
            "    (1): Linear(in_features=9216, out_features=4096, bias=True)\n",
            "    (2): ReLU(inplace=True)\n",
            "    (3): Dropout(p=0.5, inplace=False)\n",
            "    (4): Linear(in_features=4096, out_features=4096, bias=True)\n",
            "    (5): ReLU(inplace=True)\n",
            "    (6): Linear(in_features=4096, out_features=1000, bias=True)\n",
            "  )\n",
            ")\n"
          ],
          "name": "stdout"
        }
      ]
    },
    {
      "cell_type": "markdown",
      "metadata": {
        "id": "9PxIskJqxR3j"
      },
      "source": [
        " torchvision에서 제공하는 pre-trained된 AlexNet에서 마지막 layer에 fully connected layer를 추가시켜줍니다. \n",
        " \n",
        " 이 때 출력되는 output unit의 수는 예측하려는 class의 수 + 1(=배경)입니다. 저희가 살펴보는 코드는 오직 자동차에 대한 분류만 진행하기 때문에 output unit의 수는 2입니다. "
      ]
    },
    {
      "cell_type": "code",
      "metadata": {
        "colab": {
          "base_uri": "https://localhost:8080/"
        },
        "id": "OnWK_hG5wSTv",
        "outputId": "058a52e9-903a-4654-d0ec-9bd8361dbf0a"
      },
      "source": [
        "import torch.nn as nn\n",
        "\n",
        "num_features = model.classifier[6].in_features\n",
        "model.classifier[6] = nn.Linear(num_features, 2)\n",
        "print(model)"
      ],
      "execution_count": null,
      "outputs": [
        {
          "output_type": "stream",
          "text": [
            "AlexNet(\n",
            "  (features): Sequential(\n",
            "    (0): Conv2d(3, 64, kernel_size=(11, 11), stride=(4, 4), padding=(2, 2))\n",
            "    (1): ReLU(inplace=True)\n",
            "    (2): MaxPool2d(kernel_size=3, stride=2, padding=0, dilation=1, ceil_mode=False)\n",
            "    (3): Conv2d(64, 192, kernel_size=(5, 5), stride=(1, 1), padding=(2, 2))\n",
            "    (4): ReLU(inplace=True)\n",
            "    (5): MaxPool2d(kernel_size=3, stride=2, padding=0, dilation=1, ceil_mode=False)\n",
            "    (6): Conv2d(192, 384, kernel_size=(3, 3), stride=(1, 1), padding=(1, 1))\n",
            "    (7): ReLU(inplace=True)\n",
            "    (8): Conv2d(384, 256, kernel_size=(3, 3), stride=(1, 1), padding=(1, 1))\n",
            "    (9): ReLU(inplace=True)\n",
            "    (10): Conv2d(256, 256, kernel_size=(3, 3), stride=(1, 1), padding=(1, 1))\n",
            "    (11): ReLU(inplace=True)\n",
            "    (12): MaxPool2d(kernel_size=3, stride=2, padding=0, dilation=1, ceil_mode=False)\n",
            "  )\n",
            "  (avgpool): AdaptiveAvgPool2d(output_size=(6, 6))\n",
            "  (classifier): Sequential(\n",
            "    (0): Dropout(p=0.5, inplace=False)\n",
            "    (1): Linear(in_features=9216, out_features=4096, bias=True)\n",
            "    (2): ReLU(inplace=True)\n",
            "    (3): Dropout(p=0.5, inplace=False)\n",
            "    (4): Linear(in_features=4096, out_features=4096, bias=True)\n",
            "    (5): ReLU(inplace=True)\n",
            "    (6): Linear(in_features=4096, out_features=2, bias=True)\n",
            "  )\n",
            ")\n"
          ],
          "name": "stdout"
        }
      ]
    },
    {
      "cell_type": "code",
      "metadata": {
        "colab": {
          "base_uri": "https://localhost:8080/"
        },
        "id": "8zCJD1KfwZyd",
        "outputId": "88d8fdbc-393a-4038-c8ac-cad8ef30cf7e"
      },
      "source": [
        "import torch.optim as optim\n",
        "\n",
        "model = model.to(device)\n",
        "\n",
        "criterion = nn.CrossEntropyLoss()\n",
        "optimizer = optim.SGD(model.parameters(), lr=1e-3, momentum=0.9)\n",
        "lr_scheduler = optim.lr_scheduler.StepLR(optimizer, step_size=7, gamma=0.1)\n",
        "\n",
        "best_model = train_model(data_loaders, model, criterion, optimizer, lr_scheduler, device=device, num_epochs=25)"
      ],
      "execution_count": null,
      "outputs": [
        {
          "output_type": "stream",
          "text": [
            "Epoch 0/24\n",
            "----------\n"
          ],
          "name": "stdout"
        },
        {
          "output_type": "stream",
          "text": [
            "/usr/local/lib/python3.7/dist-packages/torch/utils/data/dataloader.py:477: UserWarning: This DataLoader will create 8 worker processes in total. Our suggested max number of worker in current system is 2, which is smaller than what this DataLoader is going to create. Please be aware that excessive worker creation might get DataLoader running slow or even freeze, lower the worker number to avoid potential slowness/freeze if necessary.\n",
            "  cpuset_checked))\n"
          ],
          "name": "stderr"
        },
        {
          "output_type": "stream",
          "text": [
            "train Loss: 0.1853 Acc: 0.9207\n",
            "val Loss: 0.3800 Acc: 0.8594\n",
            "\n",
            "Epoch 1/24\n",
            "----------\n",
            "train Loss: 0.1068 Acc: 0.9559\n",
            "val Loss: 0.4457 Acc: 0.8557\n",
            "\n",
            "Epoch 2/24\n",
            "----------\n",
            "train Loss: 0.0911 Acc: 0.9622\n",
            "val Loss: 0.5120 Acc: 0.8511\n",
            "\n",
            "Epoch 3/24\n",
            "----------\n",
            "train Loss: 0.0769 Acc: 0.9687\n",
            "val Loss: 0.5261 Acc: 0.8489\n",
            "\n",
            "Epoch 4/24\n",
            "----------\n",
            "train Loss: 0.0678 Acc: 0.9729\n",
            "val Loss: 0.5080 Acc: 0.8514\n",
            "\n",
            "Epoch 5/24\n",
            "----------\n",
            "train Loss: 0.0638 Acc: 0.9742\n",
            "val Loss: 0.6506 Acc: 0.8431\n",
            "\n",
            "Epoch 6/24\n",
            "----------\n",
            "train Loss: 0.0557 Acc: 0.9780\n",
            "val Loss: 0.6839 Acc: 0.8441\n",
            "\n",
            "Epoch 7/24\n",
            "----------\n",
            "train Loss: 0.0459 Acc: 0.9824\n",
            "val Loss: 0.6375 Acc: 0.8528\n",
            "\n",
            "Epoch 8/24\n",
            "----------\n",
            "train Loss: 0.0473 Acc: 0.9814\n",
            "val Loss: 0.6461 Acc: 0.8503\n",
            "\n",
            "Epoch 9/24\n",
            "----------\n",
            "train Loss: 0.0465 Acc: 0.9813\n",
            "val Loss: 0.6474 Acc: 0.8517\n",
            "\n",
            "Epoch 10/24\n",
            "----------\n",
            "train Loss: 0.0459 Acc: 0.9820\n",
            "val Loss: 0.6505 Acc: 0.8519\n",
            "\n",
            "Epoch 11/24\n",
            "----------\n",
            "train Loss: 0.0447 Acc: 0.9817\n",
            "val Loss: 0.7078 Acc: 0.8467\n",
            "\n",
            "Epoch 12/24\n",
            "----------\n",
            "train Loss: 0.0431 Acc: 0.9828\n",
            "val Loss: 0.6530 Acc: 0.8542\n",
            "\n",
            "Epoch 13/24\n",
            "----------\n",
            "train Loss: 0.0447 Acc: 0.9826\n",
            "val Loss: 0.7131 Acc: 0.8476\n",
            "\n",
            "Epoch 14/24\n",
            "----------\n",
            "train Loss: 0.0418 Acc: 0.9837\n",
            "val Loss: 0.6915 Acc: 0.8501\n",
            "\n",
            "Epoch 15/24\n",
            "----------\n",
            "train Loss: 0.0430 Acc: 0.9835\n",
            "val Loss: 0.6806 Acc: 0.8529\n",
            "\n",
            "Epoch 16/24\n",
            "----------\n",
            "train Loss: 0.0427 Acc: 0.9828\n",
            "val Loss: 0.6866 Acc: 0.8501\n",
            "\n",
            "Epoch 17/24\n",
            "----------\n",
            "train Loss: 0.0445 Acc: 0.9825\n",
            "val Loss: 0.6675 Acc: 0.8543\n",
            "\n",
            "Epoch 18/24\n",
            "----------\n",
            "train Loss: 0.0417 Acc: 0.9840\n",
            "val Loss: 0.6958 Acc: 0.8510\n",
            "\n",
            "Epoch 19/24\n",
            "----------\n",
            "train Loss: 0.0430 Acc: 0.9837\n",
            "val Loss: 0.6886 Acc: 0.8524\n",
            "\n",
            "Epoch 20/24\n",
            "----------\n",
            "train Loss: 0.0412 Acc: 0.9837\n",
            "val Loss: 0.6952 Acc: 0.8503\n",
            "\n",
            "Epoch 21/24\n",
            "----------\n",
            "train Loss: 0.0431 Acc: 0.9835\n",
            "val Loss: 0.6854 Acc: 0.8532\n",
            "\n",
            "Epoch 22/24\n",
            "----------\n",
            "train Loss: 0.0424 Acc: 0.9832\n",
            "val Loss: 0.6956 Acc: 0.8499\n",
            "\n",
            "Epoch 23/24\n",
            "----------\n",
            "train Loss: 0.0421 Acc: 0.9831\n",
            "val Loss: 0.6904 Acc: 0.8526\n",
            "\n",
            "Epoch 24/24\n",
            "----------\n",
            "train Loss: 0.0434 Acc: 0.9825\n",
            "val Loss: 0.6738 Acc: 0.8534\n",
            "\n",
            "Training complete in 104m 51s\n",
            "Best val Acc: 0.859398\n"
          ],
          "name": "stdout"
        }
      ]
    },
    {
      "cell_type": "code",
      "metadata": {
        "id": "lA1JzqTxv-cQ"
      },
      "source": [
        "# Save the best model parameters\n",
        "if not os.path.exists('./models'):\n",
        "  os.mkdir('./models')\n",
        "torch.save(best_model.state_dict(), 'models/alexnet_car.pth')"
      ],
      "execution_count": null,
      "outputs": []
    },
    {
      "cell_type": "markdown",
      "metadata": {
        "id": "w0ENCd2o5BPB"
      },
      "source": [
        "##### 모델 저장 후 다음날 다시"
      ]
    },
    {
      "cell_type": "code",
      "metadata": {
        "id": "iYp_GuASUv_a",
        "colab": {
          "base_uri": "https://localhost:8080/"
        },
        "outputId": "3aa7e0d9-6a3e-4acb-bdd8-1aebd4b3887c"
      },
      "source": [
        "from google.colab import drive\n",
        "drive.mount('/content/drive')"
      ],
      "execution_count": null,
      "outputs": [
        {
          "output_type": "stream",
          "text": [
            "Mounted at /content/drive\n"
          ],
          "name": "stdout"
        }
      ]
    },
    {
      "cell_type": "code",
      "metadata": {
        "id": "EkLNmMva1-ER"
      },
      "source": [
        "# Save trained model\n",
        "if not os.path.exists('/content/drive/alexnet_car.pth'):\n",
        "  shutil.copyfile('models/alexnet_car.pth', '/content/drive/alexnet_car.pth')\n",
        "\n",
        "# Save datasets\n",
        "save_dir = '/content/drive/RCNN_ipynb'\n",
        "if not os.path.exists(save_dir):\n",
        "  os.mkdir(save_dir)\n",
        "\n",
        "for folder in ['finetune_car', 'bbox_regression', 'voc_car', 'models', 'classifier_car']:\n",
        "  shutil.copytree(os.path.join('.', folder), os.path.join(save_dir, folder))"
      ],
      "execution_count": null,
      "outputs": []
    },
    {
      "cell_type": "code",
      "metadata": {
        "id": "3IuLHZFa5oDz"
      },
      "source": [
        "import os\n",
        "import shutil"
      ],
      "execution_count": null,
      "outputs": []
    },
    {
      "cell_type": "code",
      "metadata": {
        "id": "Ivj5kTzwQVT_"
      },
      "source": [
        "# Load\n",
        "if not os.path.exists('./models'):\n",
        "  os.mkdir('./models')\n",
        "\n",
        "save_dir = '/content/drive/MyDrive/RCNN_ipynb'\n",
        "for folder in ['finetune_car', 'bbox_regression', 'voc_car', 'models', 'classifier_car']:\n",
        "  if not os.path.exists(os.path.join('.', folder)):\n",
        "    shutil.copytree(os.path.join(save_dir, folder), os.path.join('.', folder))"
      ],
      "execution_count": null,
      "outputs": []
    },
    {
      "cell_type": "markdown",
      "metadata": {
        "id": "m34qix1MxaNy"
      },
      "source": [
        "### 5. linear SVM 및 Bounding box regressor 학습"
      ]
    },
    {
      "cell_type": "markdown",
      "metadata": {
        "id": "dG6lHQ9-xddU"
      },
      "source": [
        "#### linear_svm.py : linear SVM 모델 학습(학습 시 hard negative mining 적용)\n",
        "\n",
        "https://github.com/object-detection-algorithm/R-CNN/blob/a7a66144a1809cde728052b4c392ef7d92fdab97/py/linear_svm.py\n",
        "\n",
        "\n",
        "\n"
      ]
    },
    {
      "cell_type": "markdown",
      "metadata": {
        "id": "5yQJbOi1z2_r"
      },
      "source": [
        "linear SVM 모델을 학습하 과정은 AlexNet을 fine tune하는 과정과 유사하지만 몇 가지 차이가 있습니다. 첫 번째로, 학습 초기 데이터를 구성하는 방법에서 차이가 있습니다. Object detection시, 일반적으로 분류하려는 class는 positive sample, 나머지 배경은 negative sample에 해당합니다. 이는 postive sample의 수가 negative sample보다 훨씬 더 적다는 것을 의미합니다. 이러한 클래스 불균형(class imbalance) 상황에서positive/negative sample을 모두 균형있게 학습하기 위해 학습 초기에는 positive sample과 negative sample의 비율을 1:1로 맞춰줍니다. "
      ]
    },
    {
      "cell_type": "code",
      "metadata": {
        "id": "78wwWHPdPokc"
      },
      "source": [
        "def load_data_svm(data_root_dir):\n",
        "    transform = transforms.Compose([\n",
        "        transforms.ToPILImage(),\n",
        "        transforms.Resize((227, 227)),\n",
        "        transforms.RandomHorizontalFlip(),\n",
        "        transforms.ToTensor(),\n",
        "        transforms.Normalize((0.5, 0.5, 0.5), (0.5, 0.5, 0.5))\n",
        "    ])\n",
        "\n",
        "    data_loaders = {}\n",
        "    data_sizes = {}\n",
        "    remain_negative_list = list()\n",
        "    for name in ['train', 'val']:\n",
        "        data_dir = os.path.join(data_root_dir, name)\n",
        "        data_set = CustomClassifierDataset(data_dir, transform=transform)\n",
        "        if name is 'train':\n",
        "            positive_list = data_set.get_positives()\n",
        "            negative_list = data_set.get_negatives()\n",
        "            init_negative_idxs = random.sample(range(len(negative_list)), len(positive_list))\n",
        "            init_negative_list = [negative_list[idx] for idx in range(len(negative_list)) if idx in init_negative_idxs]\n",
        "            data_set.set_negative_list(init_negative_list)\n",
        "\n",
        "            data_sampler = CustomBatchSampler(data_set.get_positive_num(), data_set.get_negative_num(), 1, 1)\n",
        "            data_loader = DataLoader(data_set, batch_size=1, sampler=data_sampler, num_workers=8, drop_last=True)\n",
        "            data_loaders['train'] = data_loader\n",
        "            data_sizes['train'] = data_sampler.__len__()\n",
        "\n",
        "            remain_negative_list = [negative_list[idx] for idx in range(len(negative_list))\n",
        "                                    if idx not in init_negative_idxs]\n",
        "            data_loaders['remain'] = remain_negative_list\n",
        "            data_sizes['remain'] = remain_negative_list.__len__()\n",
        "\n",
        "        if name is 'val':\n",
        "            data_sampler = CustomBatchSampler(data_set.get_positive_num(), data_set.get_negative_num(), 32, 96)\n",
        "            data_loader = DataLoader(data_set, batch_size=128, sampler=data_sampler, num_workers=8, drop_last=True)\n",
        "\n",
        "            data_loaders[name] = data_loader\n",
        "            data_sizes[name] = data_sampler.__len__()\n",
        "\n",
        "    return data_loaders, data_sizes"
      ],
      "execution_count": null,
      "outputs": []
    },
    {
      "cell_type": "code",
      "metadata": {
        "id": "qRw3KTf82efN",
        "colab": {
          "base_uri": "https://localhost:8080/"
        },
        "outputId": "c97d02f6-e14e-4bf9-b95e-80856291bbf7"
      },
      "source": [
        "import torch\n",
        "import torchvision.transforms as transforms\n",
        "import numpy as np\n",
        "import cv2\n",
        "from torch.utils.data import DataLoader\n",
        "import random\n",
        "\n",
        "device = torch.device('cuda:0' if torch.cuda.is_available() else 'cpu')\n",
        "# device = 'cpu'\n",
        "\n",
        "data_loaders, data_sizes = load_data_svm('./classifier_car')"
      ],
      "execution_count": null,
      "outputs": [
        {
          "output_type": "stream",
          "text": [
            "/usr/local/lib/python3.7/dist-packages/torch/utils/data/dataloader.py:477: UserWarning: This DataLoader will create 8 worker processes in total. Our suggested max number of worker in current system is 2, which is smaller than what this DataLoader is going to create. Please be aware that excessive worker creation might get DataLoader running slow or even freeze, lower the worker number to avoid potential slowness/freeze if necessary.\n",
            "  cpuset_checked))\n"
          ],
          "name": "stderr"
        }
      ]
    },
    {
      "cell_type": "code",
      "metadata": {
        "colab": {
          "base_uri": "https://localhost:8080/"
        },
        "id": "qpYoqyDTqaLi",
        "outputId": "e6ad5e35-88ce-4327-ce9b-a71d0eefa717"
      },
      "source": [
        "len(data_loaders['train']), len(data_loaders['val']), len(data_loaders['remain']), data_sizes"
      ],
      "execution_count": null,
      "outputs": [
        {
          "output_type": "execute_result",
          "data": {
            "text/plain": [
              "(130, 233, 34112, {'remain': 34112, 'train': 130, 'val': 29824})"
            ]
          },
          "metadata": {
            "tags": []
          },
          "execution_count": 78
        }
      ]
    },
    {
      "cell_type": "markdown",
      "metadata": {
        "id": "1in4ZpSPzP0S"
      },
      "source": [
        "두 번째로, Hinge loss를 loss function으로 사용합니다."
      ]
    },
    {
      "cell_type": "code",
      "metadata": {
        "id": "RS3U8U5qzZnE"
      },
      "source": [
        "def hinge_loss(outputs, labels):\n",
        "    \"\"\"\n",
        "    Folding loss calculation\n",
        "    :param outputs: the size is (N, num_classes)\n",
        "    :param labels: size is (N)\n",
        "    :return: loss value\n",
        "    \"\"\"\n",
        "    num_labels = len(labels)\n",
        "    corrects = outputs[range(num_labels), labels].unsqueeze(0).T\n",
        "\n",
        "    # Maximum interval\n",
        "    margin = 1.0\n",
        "    margins = outputs - corrects + margin\n",
        "    loss = torch.sum(torch.max(margins, 1)[0]) / len(labels)\n",
        "\n",
        "    # Regularization strength\n",
        "    # reg = 1e-3\n",
        "    # loss += reg * torch.sum(weight ** 2)\n",
        "\n",
        "    return loss"
      ],
      "execution_count": null,
      "outputs": []
    },
    {
      "cell_type": "markdown",
      "metadata": {
        "id": "_MHRwCPL4LiJ"
      },
      "source": [
        "마지막으로, 학습 시 Hard negative mining을 적용합니다. 앞서 살펴보았듯이 positive sample과 같은 수로 negative sample을 구성하다보니 많은 negative sample이 남게 됩니다. 이처럼 남은(remain) negative sample은 linear SVM 모델을 한 차례(1 epoch) 학습시킨 후 Hard negative mining에 사용합니다. "
      ]
    },
    {
      "cell_type": "code",
      "metadata": {
        "id": "xm7lr13L03Dj"
      },
      "source": [
        "def add_hard_negatives(hard_negative_list, negative_list, add_negative_list):\n",
        "    for item in hard_negative_list:\n",
        "        if len(add_negative_list) == 0:\n",
        "            # Add negative samples for the first time\n",
        "            negative_list.append(item)\n",
        "            add_negative_list.append(list(item['rect']))\n",
        "        if list(item['rect']) not in add_negative_list:\n",
        "            negative_list.append(item)\n",
        "            add_negative_list.append(list(item['rect']))"
      ],
      "execution_count": null,
      "outputs": []
    },
    {
      "cell_type": "markdown",
      "metadata": {
        "id": "9-D7-Pgt4e1u"
      },
      "source": [
        "남은 negative sample은 custom_hard_negative_mining_dataset.py 를 통해 데이터셋으로 구성해준 후 별도로 load시켜 준 후 학습시켜줍니다. 즉, 1 epoch 내에서 positive sample과 negative sample으로 학습시킨 후, 남은 negative sample만으로 모델을 다시 학습시켜주는 셈입니다. 학습 결과 모델이 negative(=배경)이라고 정확히 예측한 경우 True Positive sample이며, positive라고 예측했으나, 실제로는 negative인 경우에는 False Positive sample입니다. 아래는 학습 결과를 토대로 hard negative sample(=False Positive)과 easy negative sample(=True Negative)로 구분하는 코드입니다.  "
      ]
    },
    {
      "cell_type": "code",
      "metadata": {
        "id": "AUuw0l6B032T"
      },
      "source": [
        "def get_hard_negatives(preds, cache_dicts):\n",
        "    fp_mask = preds == 1\n",
        "    tn_mask = preds == 0\n",
        "\n",
        "    fp_rects = cache_dicts['rect'][fp_mask].numpy()\n",
        "    fp_image_ids = cache_dicts['image_id'][fp_mask].numpy()\n",
        "\n",
        "    tn_rects = cache_dicts['rect'][tn_mask].numpy()\n",
        "    tn_image_ids = cache_dicts['image_id'][tn_mask].numpy()\n",
        "\n",
        "    hard_negative_list = [{'rect': fp_rects[idx], 'image_id': fp_image_ids[idx]} for idx in range(len(fp_rects))]\n",
        "    easy_negatie_list = [{'rect': tn_rects[idx], 'image_id': tn_image_ids[idx]} for idx in range(len(tn_rects))]\n",
        "\n",
        "    return hard_negative_list, easy_negatie_list\n"
      ],
      "execution_count": null,
      "outputs": []
    },
    {
      "cell_type": "markdown",
      "metadata": {
        "id": "KF2Uz6nY5HHx"
      },
      "source": [
        "모델을 남은 negative sample을 학습시켜 찾은 hard negative sample은 negative sample에 추가하여 CustomBatchSampler와 Dataloader를 통해 학습 데이터셋을 다시 구성해줍니다. 즉, 다음 epoch에서는 hard negative sample이 추가된 데이터로 모델을 학습시킬 수 있습니다. "
      ]
    },
    {
      "cell_type": "code",
      "metadata": {
        "id": "1gbOhn-v0-x4"
      },
      "source": [
        "import copy\n",
        "\n",
        "def train_model_svm(data_loaders, model, criterion, optimizer, lr_scheduler, num_epochs=25, device=None):\n",
        "    since = time.time()\n",
        "\n",
        "    batch_positive = 32\n",
        "    batch_negative = 96\n",
        "    batch_total = 128\n",
        "\n",
        "    best_model_weights = copy.deepcopy(model.state_dict())\n",
        "    best_acc = 0.0\n",
        "\n",
        "    for epoch in range(num_epochs):\n",
        "\n",
        "        print('Epoch {}/{}'.format(epoch, num_epochs - 1))\n",
        "        print('-' * 10)\n",
        "\n",
        "        # Each epoch has a training and validation phase\n",
        "        for phase in ['train', 'val']:\n",
        "            if phase == 'train':\n",
        "                model.train()  # Set model to training mode\n",
        "            else:\n",
        "                model.eval()  # Set model to evaluate mode\n",
        "\n",
        "            running_loss = 0.0\n",
        "            running_corrects = 0\n",
        "\n",
        "            # Number of output positive and negative samples\n",
        "            data_set = data_loaders[phase].dataset\n",
        "            print('{} - positive_num: {} - negative_num: {} - data size: {}'.format(\n",
        "                phase, data_set.get_positive_num(), data_set.get_negative_num(), data_sizes[phase]))\n",
        "\n",
        "            # Iterate over data.\n",
        "            for inputs, labels, cache_dicts in data_loaders[phase]:\n",
        "                inputs = inputs.to(device)\n",
        "                labels = labels.to(device)\n",
        "\n",
        "                # zero the parameter gradients\n",
        "                optimizer.zero_grad()\n",
        "\n",
        "                # forward\n",
        "                # track history if only in train\n",
        "                with torch.set_grad_enabled(phase == 'train'):\n",
        "                    outputs = model(inputs)\n",
        "                    # print(outputs.shape)\n",
        "                    _, preds = torch.max(outputs, 1)\n",
        "                    loss = criterion(outputs, labels)\n",
        "\n",
        "                    # backward + optimize only if in training phase\n",
        "                    if phase == 'train':\n",
        "                        loss.backward()\n",
        "                        optimizer.step()\n",
        "\n",
        "                # statistics\n",
        "                running_loss += loss.item() * inputs.size(0)\n",
        "                running_corrects += torch.sum(preds == labels.data)\n",
        "            if phase == 'train':\n",
        "                lr_scheduler.step()\n",
        "\n",
        "            epoch_loss = running_loss / data_sizes[phase]\n",
        "            epoch_acc = running_corrects.double() / data_sizes[phase]\n",
        "\n",
        "            print('{} Loss: {:.4f} Acc: {:.4f}'.format(\n",
        "                phase, epoch_loss, epoch_acc))\n",
        "\n",
        "            # deep copy the model\n",
        "            if phase == 'val' and epoch_acc > best_acc:\n",
        "                best_acc = epoch_acc\n",
        "                best_model_weights = copy.deepcopy(model.state_dict())\n",
        "\n",
        "        # After each round of training is completed, \n",
        "        # test the remaining negative sample set and perform hard negative mining\n",
        "        train_dataset = data_loaders['train'].dataset\n",
        "        remain_negative_list = data_loaders['remain']\n",
        "        jpeg_images = train_dataset.get_jpeg_images()\n",
        "        transform = train_dataset.get_transform()\n",
        "\n",
        "        with torch.set_grad_enabled(False):\n",
        "            remain_dataset = CustomHardNegativeMiningDataset(remain_negative_list, jpeg_images, transform=transform)\n",
        "            remain_data_loader = DataLoader(remain_dataset, batch_size=batch_total, num_workers=8, drop_last=True)\n",
        "\n",
        "            # Get the negative sample set of the training data set\n",
        "            negative_list = train_dataset.get_negatives()\n",
        "            # Record subsequent negative samples added\n",
        "            add_negative_list = data_loaders.get('add_negative', [])\n",
        "\n",
        "            running_corrects = 0\n",
        "            # Iterate over data.\n",
        "            for inputs, labels, cache_dicts in remain_data_loader:\n",
        "                inputs = inputs.to(device)\n",
        "                labels = labels.to(device)\n",
        "\n",
        "                # zero the parameter gradients\n",
        "                optimizer.zero_grad()\n",
        "\n",
        "                outputs = model(inputs)\n",
        "                # print(outputs.shape)\n",
        "                _, preds = torch.max(outputs, 1)\n",
        "\n",
        "                running_corrects += torch.sum(preds == labels.data)\n",
        "\n",
        "                hard_negative_list, easy_neagtive_list = get_hard_negatives(preds.cpu().numpy(), cache_dicts)\n",
        "                add_hard_negatives(hard_negative_list, negative_list, add_negative_list)\n",
        "\n",
        "            remain_acc = running_corrects.double() / len(remain_negative_list)\n",
        "            print('remiam negative size: {}, acc: {:.4f}'.format(len(remain_negative_list), remain_acc))\n",
        "\n",
        "            # After the training is completed, \n",
        "            # reset the negative samples and perform hard negatives mining\n",
        "            train_dataset.set_negative_list(negative_list)\n",
        "            tmp_sampler = CustomBatchSampler(train_dataset.get_positive_num(), train_dataset.get_negative_num(),\n",
        "                                             batch_positive, batch_negative)\n",
        "            data_loaders['train'] = DataLoader(train_dataset, batch_size=batch_total, sampler=tmp_sampler,\n",
        "                                               num_workers=8, drop_last=True)\n",
        "            data_loaders['add_negative'] = add_negative_list\n",
        "            # Reset the data set size\n",
        "            data_sizes['train'] = len(tmp_sampler)\n",
        "\n",
        "        # Save every training round\n",
        "        if not os.path.exists('./models'):\n",
        "            os.mkdir('./models')\n",
        "        torch.save(model.state_dict(), 'models/linear_svm_alexnet_car_%d.pth' % epoch)\n",
        "\n",
        "    time_elapsed = time.time() - since\n",
        "    print('Training complete in {:.0f}m {:.0f}s'.format(\n",
        "        time_elapsed // 60, time_elapsed % 60))\n",
        "    print('Best val Acc: {:4f}'.format(best_acc))\n",
        "\n",
        "    # load best model weights\n",
        "    model.load_state_dict(best_model_weights)\n",
        "    return model"
      ],
      "execution_count": null,
      "outputs": []
    },
    {
      "cell_type": "code",
      "metadata": {
        "id": "oigVRxne3KXE",
        "colab": {
          "base_uri": "https://localhost:8080/"
        },
        "outputId": "a6be986c-506f-425c-8238-3830f962487c"
      },
      "source": [
        "from torchvision.models import alexnet\n",
        "import torch.nn as nn\n",
        "\n",
        "# Load the CNN model\n",
        "model_path = './models/alexnet_car.pth'\n",
        "model = alexnet()\n",
        "num_classes = 2\n",
        "num_features = model.classifier[6].in_features\n",
        "model.classifier[6] = nn.Linear(num_features, num_classes)\n",
        "model.load_state_dict(torch.load(model_path))\n",
        "model.eval()"
      ],
      "execution_count": null,
      "outputs": [
        {
          "output_type": "execute_result",
          "data": {
            "text/plain": [
              "AlexNet(\n",
              "  (features): Sequential(\n",
              "    (0): Conv2d(3, 64, kernel_size=(11, 11), stride=(4, 4), padding=(2, 2))\n",
              "    (1): ReLU(inplace=True)\n",
              "    (2): MaxPool2d(kernel_size=3, stride=2, padding=0, dilation=1, ceil_mode=False)\n",
              "    (3): Conv2d(64, 192, kernel_size=(5, 5), stride=(1, 1), padding=(2, 2))\n",
              "    (4): ReLU(inplace=True)\n",
              "    (5): MaxPool2d(kernel_size=3, stride=2, padding=0, dilation=1, ceil_mode=False)\n",
              "    (6): Conv2d(192, 384, kernel_size=(3, 3), stride=(1, 1), padding=(1, 1))\n",
              "    (7): ReLU(inplace=True)\n",
              "    (8): Conv2d(384, 256, kernel_size=(3, 3), stride=(1, 1), padding=(1, 1))\n",
              "    (9): ReLU(inplace=True)\n",
              "    (10): Conv2d(256, 256, kernel_size=(3, 3), stride=(1, 1), padding=(1, 1))\n",
              "    (11): ReLU(inplace=True)\n",
              "    (12): MaxPool2d(kernel_size=3, stride=2, padding=0, dilation=1, ceil_mode=False)\n",
              "  )\n",
              "  (avgpool): AdaptiveAvgPool2d(output_size=(6, 6))\n",
              "  (classifier): Sequential(\n",
              "    (0): Dropout(p=0.5, inplace=False)\n",
              "    (1): Linear(in_features=9216, out_features=4096, bias=True)\n",
              "    (2): ReLU(inplace=True)\n",
              "    (3): Dropout(p=0.5, inplace=False)\n",
              "    (4): Linear(in_features=4096, out_features=4096, bias=True)\n",
              "    (5): ReLU(inplace=True)\n",
              "    (6): Linear(in_features=4096, out_features=2, bias=True)\n",
              "  )\n",
              ")"
            ]
          },
          "metadata": {
            "tags": []
          },
          "execution_count": 83
        }
      ]
    },
    {
      "cell_type": "code",
      "metadata": {
        "id": "jOiz9RSZ3NXS",
        "colab": {
          "base_uri": "https://localhost:8080/"
        },
        "outputId": "2a31d48d-0f21-4856-eff1-d367e570603b"
      },
      "source": [
        "# Fixed feature extraction\n",
        "for param in model.parameters():\n",
        "    param.requires_grad = False\n",
        "# Create SVM classifier\n",
        "model.classifier[6] = nn.Linear(num_features, num_classes)\n",
        "print(model)"
      ],
      "execution_count": null,
      "outputs": [
        {
          "output_type": "stream",
          "text": [
            "AlexNet(\n",
            "  (features): Sequential(\n",
            "    (0): Conv2d(3, 64, kernel_size=(11, 11), stride=(4, 4), padding=(2, 2))\n",
            "    (1): ReLU(inplace=True)\n",
            "    (2): MaxPool2d(kernel_size=3, stride=2, padding=0, dilation=1, ceil_mode=False)\n",
            "    (3): Conv2d(64, 192, kernel_size=(5, 5), stride=(1, 1), padding=(2, 2))\n",
            "    (4): ReLU(inplace=True)\n",
            "    (5): MaxPool2d(kernel_size=3, stride=2, padding=0, dilation=1, ceil_mode=False)\n",
            "    (6): Conv2d(192, 384, kernel_size=(3, 3), stride=(1, 1), padding=(1, 1))\n",
            "    (7): ReLU(inplace=True)\n",
            "    (8): Conv2d(384, 256, kernel_size=(3, 3), stride=(1, 1), padding=(1, 1))\n",
            "    (9): ReLU(inplace=True)\n",
            "    (10): Conv2d(256, 256, kernel_size=(3, 3), stride=(1, 1), padding=(1, 1))\n",
            "    (11): ReLU(inplace=True)\n",
            "    (12): MaxPool2d(kernel_size=3, stride=2, padding=0, dilation=1, ceil_mode=False)\n",
            "  )\n",
            "  (avgpool): AdaptiveAvgPool2d(output_size=(6, 6))\n",
            "  (classifier): Sequential(\n",
            "    (0): Dropout(p=0.5, inplace=False)\n",
            "    (1): Linear(in_features=9216, out_features=4096, bias=True)\n",
            "    (2): ReLU(inplace=True)\n",
            "    (3): Dropout(p=0.5, inplace=False)\n",
            "    (4): Linear(in_features=4096, out_features=4096, bias=True)\n",
            "    (5): ReLU(inplace=True)\n",
            "    (6): Linear(in_features=4096, out_features=2, bias=True)\n",
            "  )\n",
            ")\n"
          ],
          "name": "stdout"
        }
      ]
    },
    {
      "cell_type": "code",
      "metadata": {
        "id": "lgD4q_Mc2b54",
        "colab": {
          "base_uri": "https://localhost:8080/"
        },
        "outputId": "3a05862c-87b6-47e4-afde-1125c8892fd4"
      },
      "source": [
        "import torch.optim as optim\n",
        "import time\n",
        "\n",
        "model = model.to(device)\n",
        "\n",
        "criterion = hinge_loss\n",
        "# Since the number of initial training sets is small, the learning rate is reduced\n",
        "optimizer = optim.SGD(model.parameters(), lr=1e-4, momentum=0.9)\n",
        "# A total of 10 rounds of training, and the learning rate is reduced every 4 sessions\n",
        "lr_schduler = optim.lr_scheduler.StepLR(optimizer, step_size=4, gamma=0.1)\n",
        "\n",
        "best_model = train_model_svm(data_loaders, model, criterion, optimizer, lr_schduler, num_epochs=10, device=device)\n"
      ],
      "execution_count": null,
      "outputs": [
        {
          "output_type": "stream",
          "text": [
            "Epoch 0/9\n",
            "----------\n",
            "train - positive_num: 65 - negative_num: 65 - data size: 130\n"
          ],
          "name": "stdout"
        },
        {
          "output_type": "stream",
          "text": [
            "/usr/local/lib/python3.7/dist-packages/torch/utils/data/dataloader.py:477: UserWarning: This DataLoader will create 8 worker processes in total. Our suggested max number of worker in current system is 2, which is smaller than what this DataLoader is going to create. Please be aware that excessive worker creation might get DataLoader running slow or even freeze, lower the worker number to avoid potential slowness/freeze if necessary.\n",
            "  cpuset_checked))\n"
          ],
          "name": "stderr"
        },
        {
          "output_type": "stream",
          "text": [
            "train Loss: 1.1400 Acc: 0.8846\n",
            "val - positive_num: 57 - negative_num: 29830 - data size: 29824\n",
            "val Loss: 1.3565 Acc: 0.7844\n",
            "remiam negative size: 34112, acc: 0.7542\n",
            "Epoch 1/9\n",
            "----------\n",
            "train - positive_num: 65 - negative_num: 8383 - data size: 8448\n",
            "train Loss: 1.2360 Acc: 0.8263\n",
            "val - positive_num: 57 - negative_num: 29830 - data size: 29824\n",
            "val Loss: 1.1293 Acc: 0.9188\n",
            "remiam negative size: 34112, acc: 0.9796\n",
            "Epoch 2/9\n",
            "----------\n",
            "train - positive_num: 65 - negative_num: 8383 - data size: 8448\n",
            "train Loss: 1.0725 Acc: 0.9105\n",
            "val - positive_num: 57 - negative_num: 29830 - data size: 29824\n",
            "val Loss: 1.1263 Acc: 0.9143\n",
            "remiam negative size: 34112, acc: 0.9854\n",
            "Epoch 3/9\n",
            "----------\n",
            "train - positive_num: 65 - negative_num: 8383 - data size: 8448\n",
            "train Loss: 1.0436 Acc: 0.9311\n",
            "val - positive_num: 57 - negative_num: 29830 - data size: 29824\n",
            "val Loss: 1.1124 Acc: 0.9177\n",
            "remiam negative size: 34112, acc: 0.9858\n",
            "Epoch 4/9\n",
            "----------\n",
            "train - positive_num: 65 - negative_num: 8384 - data size: 8448\n",
            "train Loss: 1.0365 Acc: 0.9409\n",
            "val - positive_num: 57 - negative_num: 29830 - data size: 29824\n",
            "val Loss: 1.1148 Acc: 0.9184\n",
            "remiam negative size: 34112, acc: 0.9869\n",
            "Epoch 5/9\n",
            "----------\n",
            "train - positive_num: 65 - negative_num: 8384 - data size: 8448\n",
            "train Loss: 1.0415 Acc: 0.9321\n",
            "val - positive_num: 57 - negative_num: 29830 - data size: 29824\n",
            "val Loss: 1.1094 Acc: 0.9208\n",
            "remiam negative size: 34112, acc: 0.9865\n",
            "Epoch 6/9\n",
            "----------\n",
            "train - positive_num: 65 - negative_num: 8384 - data size: 8448\n",
            "train Loss: 1.0374 Acc: 0.9358\n",
            "val - positive_num: 57 - negative_num: 29830 - data size: 29824\n",
            "val Loss: 1.1146 Acc: 0.9187\n",
            "remiam negative size: 34112, acc: 0.9868\n",
            "Epoch 7/9\n",
            "----------\n",
            "train - positive_num: 65 - negative_num: 8384 - data size: 8448\n",
            "train Loss: 1.0365 Acc: 0.9363\n",
            "val - positive_num: 57 - negative_num: 29830 - data size: 29824\n",
            "val Loss: 1.1108 Acc: 0.9201\n",
            "remiam negative size: 34112, acc: 0.9863\n",
            "Epoch 8/9\n",
            "----------\n",
            "train - positive_num: 65 - negative_num: 8385 - data size: 8448\n",
            "train Loss: 1.0353 Acc: 0.9389\n",
            "val - positive_num: 57 - negative_num: 29830 - data size: 29824\n",
            "val Loss: 1.1121 Acc: 0.9200\n",
            "remiam negative size: 34112, acc: 0.9865\n",
            "Epoch 9/9\n",
            "----------\n",
            "train - positive_num: 65 - negative_num: 8385 - data size: 8448\n",
            "train Loss: 1.0352 Acc: 0.9377\n",
            "val - positive_num: 57 - negative_num: 29830 - data size: 29824\n",
            "val Loss: 1.1130 Acc: 0.9176\n",
            "remiam negative size: 34112, acc: 0.9868\n",
            "Training complete in 32m 46s\n",
            "Best val Acc: 0.920769\n"
          ],
          "name": "stdout"
        }
      ]
    },
    {
      "cell_type": "code",
      "metadata": {
        "id": "jPZelOXa3TEx"
      },
      "source": [
        "# Save the best model parameters\n",
        "if not os.path.exists('./models'):\n",
        "    os.mkdir('./models')\n",
        "torch.save(best_model.state_dict(), 'models/best_linear_svm_alexnet_car.pth')"
      ],
      "execution_count": null,
      "outputs": []
    },
    {
      "cell_type": "markdown",
      "metadata": {
        "id": "M0SGeOO5Mpl6"
      },
      "source": [
        "##### 모델 저장 후 다음날 다시"
      ]
    },
    {
      "cell_type": "code",
      "metadata": {
        "colab": {
          "base_uri": "https://localhost:8080/"
        },
        "id": "MGc_XSWwMpmE",
        "outputId": "3aa7e0d9-6a3e-4acb-bdd8-1aebd4b3887c"
      },
      "source": [
        "from google.colab import drive\n",
        "drive.mount('/content/drive')"
      ],
      "execution_count": null,
      "outputs": [
        {
          "output_type": "stream",
          "text": [
            "Mounted at /content/drive\n"
          ],
          "name": "stdout"
        }
      ]
    },
    {
      "cell_type": "code",
      "metadata": {
        "id": "B4A22TUdNtUA"
      },
      "source": [
        "# Save models directory\n",
        "save_model_dir = '/content/drive/MyDrive/RCNN_ipynb/models'\n",
        "if not os.path.exists(save_model_dir):\n",
        "  os.mkdir(save_model_dir)\n",
        "for file in os.listdir('./models'):\n",
        "  if not os.path.exists(os.path.join(save_model_dir, file)):\n",
        "    shutil.copyfile(os.path.join('./models', file), os.path.join(save_model_dir, file))"
      ],
      "execution_count": null,
      "outputs": []
    },
    {
      "cell_type": "code",
      "metadata": {
        "id": "MaGHrRbcMpmE"
      },
      "source": [
        "import os\n",
        "import shutil"
      ],
      "execution_count": null,
      "outputs": []
    },
    {
      "cell_type": "code",
      "metadata": {
        "id": "X2zdtfLCMpmF"
      },
      "source": [
        "# Load\n",
        "if not os.path.exists('./models'):\n",
        "  os.mkdir('./models')\n",
        "\n",
        "save_dir = '/content/drive/MyDrive/RCNN_ipynb'\n",
        "for folder in ['finetune_car', 'bbox_regression', 'voc_car', 'models', 'classifier_car']:\n",
        "  if not os.path.exists(os.path.join('.', folder)):\n",
        "    shutil.copytree(os.path.join(save_dir, folder), os.path.join('.', folder))"
      ],
      "execution_count": null,
      "outputs": []
    },
    {
      "cell_type": "markdown",
      "metadata": {
        "id": "4k1MmqrNyqGp"
      },
      "source": [
        "\n",
        "#### bbox_regression.py : Bounding box regressor 모델 학습\n",
        "\n",
        "https://github.com/object-detection-algorithm/R-CNN/blob/a7a66144a1809cde728052b4c392ef7d92fdab97/py/bbox_regression.py\n",
        "\n"
      ]
    },
    {
      "cell_type": "code",
      "metadata": {
        "id": "04uWOSMEyqV9"
      },
      "source": [
        "def load_data_bbox(data_root_dir):\n",
        "    transform = transforms.Compose([\n",
        "        transforms.ToPILImage(),\n",
        "        transforms.Resize((227, 227)),\n",
        "        transforms.RandomHorizontalFlip(),\n",
        "        transforms.ToTensor(),\n",
        "        transforms.Normalize((0.5, 0.5, 0.5), (0.5, 0.5, 0.5))\n",
        "    ])\n",
        "\n",
        "    data_set = BBoxRegressionDataset(data_root_dir, transform=transform)\n",
        "    data_loader = DataLoader(data_set, batch_size=128, shuffle=True, num_workers=8)\n",
        "\n",
        "    return data_loader"
      ],
      "execution_count": null,
      "outputs": []
    },
    {
      "cell_type": "code",
      "metadata": {
        "id": "tq_sJxAW3nmE",
        "colab": {
          "base_uri": "https://localhost:8080/"
        },
        "outputId": "9bc22381-4f53-46c4-8c3b-017efa56e8ce"
      },
      "source": [
        "data_loader = load_data_bbox('./bbox_regression')"
      ],
      "execution_count": null,
      "outputs": [
        {
          "output_type": "stream",
          "text": [
            "/usr/local/lib/python3.7/dist-packages/torch/utils/data/dataloader.py:477: UserWarning: This DataLoader will create 8 worker processes in total. Our suggested max number of worker in current system is 2, which is smaller than what this DataLoader is going to create. Please be aware that excessive worker creation might get DataLoader running slow or even freeze, lower the worker number to avoid potential slowness/freeze if necessary.\n",
            "  cpuset_checked))\n"
          ],
          "name": "stderr"
        }
      ]
    },
    {
      "cell_type": "code",
      "metadata": {
        "id": "zd5STp_l3YOc"
      },
      "source": [
        "def train_model_bbox(data_loader, feature_model, model, criterion, optimizer, lr_scheduler, num_epochs=25, device=None):\n",
        "    since = time.time()\n",
        "\n",
        "    model.train()  # Set model to training mode\n",
        "    loss_list = list()\n",
        "    for epoch in range(num_epochs):\n",
        "        print('Epoch {}/{}'.format(epoch, num_epochs - 1))\n",
        "        print('-' * 10)\n",
        "\n",
        "        running_loss = 0.0\n",
        "\n",
        "        # Iterate over data.\n",
        "        for inputs, targets in data_loader:\n",
        "            inputs = inputs.to(device)\n",
        "            targets = targets.float().to(device)\n",
        "\n",
        "            features = feature_model.features(inputs)\n",
        "            features = torch.flatten(features, 1)\n",
        "\n",
        "            # zero the parameter gradients\n",
        "            optimizer.zero_grad()\n",
        "\n",
        "            # forward\n",
        "            outputs = model(features)\n",
        "            loss = criterion(outputs, targets)\n",
        "\n",
        "            loss.backward()\n",
        "            optimizer.step()\n",
        "\n",
        "            # statistics\n",
        "            running_loss += loss.item() * inputs.size(0)\n",
        "            lr_scheduler.step()\n",
        "\n",
        "        epoch_loss = running_loss / data_loader.dataset.__len__()\n",
        "        loss_list.append(epoch_loss)\n",
        "\n",
        "        print('{} Loss: {:.4f}'.format(epoch, epoch_loss))\n",
        "\n",
        "        # Save every training round\n",
        "        if not os.path.exists('./models'):\n",
        "          os.mkdir('./models')\n",
        "        torch.save(model.state_dict(), './models/bbox_regression_%d.pth' % epoch)\n",
        "\n",
        "    print()\n",
        "\n",
        "    time_elapsed = time.time() - since\n",
        "    print('Training complete in {:.0f}m {:.0f}s'.format(time_elapsed // 60, time_elapsed % 60))\n",
        "\n",
        "    return loss_list\n"
      ],
      "execution_count": null,
      "outputs": []
    },
    {
      "cell_type": "code",
      "metadata": {
        "id": "9mqGkLgI3gGk"
      },
      "source": [
        "def get_model(device=None):\n",
        "    # Load the CNN model\n",
        "    model = AlexNet(num_classes=2)\n",
        "    model.load_state_dict(torch.load('./models/best_linear_svm_alexnet_car.pth'))\n",
        "    model.eval()\n",
        "\n",
        "    # Cancel gradient tracking\n",
        "    for param in model.parameters():\n",
        "        param.requires_grad = False\n",
        "    if device:\n",
        "        model = model.to(device)\n",
        "\n",
        "    return model"
      ],
      "execution_count": null,
      "outputs": []
    },
    {
      "cell_type": "markdown",
      "metadata": {
        "id": "0hC7k_8N5RTk"
      },
      "source": [
        "Bounding box regressor를 학습시키는 과정은 상대적으로 단순합니다. fine tuned된 AlexNet 마지막 layer에 output unit = 4인 fully connected layer를 추가해줍니다. 이 때 loss function은 MSE(Mean Squared Error)입니다. "
      ]
    },
    {
      "cell_type": "code",
      "metadata": {
        "id": "QZ7pBjOD3v8Y",
        "colab": {
          "base_uri": "https://localhost:8080/"
        },
        "outputId": "a3a814b0-55e6-4d44-9b3f-88c31ee94b45"
      },
      "source": [
        "from torchvision.models import AlexNet\n",
        "\n",
        "device = torch.device(\"cuda:0\" if torch.cuda.is_available() else \"cpu\")\n",
        "feature_model = get_model(device)\n",
        "\n",
        "# The last pooling layer of AlexNet is calculated to get 256*6*6 output\n",
        "in_features = 256 * 6 * 6\n",
        "out_features = 4\n",
        "model = nn.Linear(in_features, out_features)\n",
        "model.to(device)"
      ],
      "execution_count": null,
      "outputs": [
        {
          "output_type": "execute_result",
          "data": {
            "text/plain": [
              "Linear(in_features=9216, out_features=4, bias=True)"
            ]
          },
          "metadata": {
            "tags": []
          },
          "execution_count": 114
        }
      ]
    },
    {
      "cell_type": "code",
      "metadata": {
        "id": "m0KcvG4h35S1",
        "colab": {
          "base_uri": "https://localhost:8080/"
        },
        "outputId": "a4de4d03-d34a-4f3a-ffeb-c54d72b13c42"
      },
      "source": [
        "criterion = nn.MSELoss()\n",
        "optimizer = optim.Adam(model.parameters(), lr=1e-4, weight_decay=1e-4)\n",
        "lr_scheduler = optim.lr_scheduler.StepLR(optimizer, step_size=5, gamma=0.1)\n",
        "\n",
        "loss_list = train_model_bbox(data_loader, feature_model, model, criterion, optimizer, lr_scheduler, device=device,\n",
        "                        num_epochs=12)"
      ],
      "execution_count": null,
      "outputs": [
        {
          "output_type": "stream",
          "text": [
            "Epoch 0/11\n",
            "----------\n"
          ],
          "name": "stdout"
        },
        {
          "output_type": "stream",
          "text": [
            "/usr/local/lib/python3.7/dist-packages/torch/utils/data/dataloader.py:477: UserWarning: This DataLoader will create 8 worker processes in total. Our suggested max number of worker in current system is 2, which is smaller than what this DataLoader is going to create. Please be aware that excessive worker creation might get DataLoader running slow or even freeze, lower the worker number to avoid potential slowness/freeze if necessary.\n",
            "  cpuset_checked))\n"
          ],
          "name": "stderr"
        },
        {
          "output_type": "stream",
          "text": [
            "0 Loss: 0.3596\n",
            "Epoch 1/11\n",
            "----------\n",
            "1 Loss: 0.3357\n",
            "Epoch 2/11\n",
            "----------\n",
            "2 Loss: 0.3295\n",
            "Epoch 3/11\n",
            "----------\n",
            "3 Loss: 0.3319\n",
            "Epoch 4/11\n",
            "----------\n",
            "4 Loss: 0.3270\n",
            "Epoch 5/11\n",
            "----------\n",
            "5 Loss: 0.3290\n",
            "Epoch 6/11\n",
            "----------\n",
            "6 Loss: 0.3331\n",
            "Epoch 7/11\n",
            "----------\n",
            "7 Loss: 0.3309\n",
            "Epoch 8/11\n",
            "----------\n",
            "8 Loss: 0.3317\n",
            "Epoch 9/11\n",
            "----------\n",
            "9 Loss: 0.3310\n",
            "Epoch 10/11\n",
            "----------\n",
            "10 Loss: 0.3366\n",
            "Epoch 11/11\n",
            "----------\n",
            "11 Loss: 0.3356\n",
            "\n",
            "Training complete in 2m 47s\n"
          ],
          "name": "stdout"
        }
      ]
    },
    {
      "cell_type": "code",
      "metadata": {
        "id": "qRCPgQ1Y38J5",
        "colab": {
          "base_uri": "https://localhost:8080/",
          "height": 281
        },
        "outputId": "85e10c9c-38a3-48af-bd19-6f8cabd75e46"
      },
      "source": [
        "import matplotlib.pyplot as plt\n",
        "\n",
        "x = list(range(len(loss_list)))\n",
        "fg = plt.figure()\n",
        "\n",
        "plt.plot(x, loss_list)\n",
        "plt.title('loss')\n",
        "plt.savefig('./loss.png')"
      ],
      "execution_count": null,
      "outputs": [
        {
          "output_type": "display_data",
          "data": {
            "image/png": "[encoded data removed]",
            "text/plain": [
              "<Figure size 432x288 with 1 Axes>"
            ]
          },
          "metadata": {
            "tags": [],
            "needs_background": "light"
          }
        }
      ]
    },
    {
      "cell_type": "code",
      "metadata": {
        "id": "k-SMz7YsVEOD"
      },
      "source": [
        "# Save the best model parameters\n",
        "if not os.path.exists('./models'):\n",
        "    os.mkdir('./models')\n",
        "torch.save(best_model.state_dict(), 'models/best_bbox_regression_alexnet_car.pth')"
      ],
      "execution_count": null,
      "outputs": []
    },
    {
      "cell_type": "markdown",
      "metadata": {
        "id": "2VWrUvYRVEOG"
      },
      "source": [
        "##### 모델 저장 후 다음날 다시"
      ]
    },
    {
      "cell_type": "code",
      "metadata": {
        "colab": {
          "base_uri": "https://localhost:8080/"
        },
        "id": "hhkWivjUVEOG",
        "outputId": "fdd52172-20f0-4471-a5a4-69556f431dec"
      },
      "source": [
        "from google.colab import drive\n",
        "drive.mount('/content/drive')"
      ],
      "execution_count": null,
      "outputs": [
        {
          "output_type": "stream",
          "text": [
            "Drive already mounted at /content/drive; to attempt to forcibly remount, call drive.mount(\"/content/drive\", force_remount=True).\n"
          ],
          "name": "stdout"
        }
      ]
    },
    {
      "cell_type": "code",
      "metadata": {
        "id": "PVMOB3IRVEOH"
      },
      "source": [
        "# Save models directory\n",
        "save_model_dir = '/content/drive/MyDrive/RCNN_ipynb/models'\n",
        "if not os.path.exists(save_model_dir):\n",
        "  os.mkdir(save_model_dir)\n",
        "for file in os.listdir('./models'):\n",
        "  if not os.path.exists(os.path.join(save_model_dir, file)):\n",
        "    shutil.copyfile(os.path.join('./models', file), os.path.join(save_model_dir, file))"
      ],
      "execution_count": null,
      "outputs": []
    },
    {
      "cell_type": "code",
      "metadata": {
        "id": "HUeyHMobVEOH"
      },
      "source": [
        "import os\n",
        "import shutil"
      ],
      "execution_count": null,
      "outputs": []
    },
    {
      "cell_type": "code",
      "metadata": {
        "id": "or1nIUk-VEOH"
      },
      "source": [
        "# Load\n",
        "if not os.path.exists('./models'):\n",
        "  os.mkdir('./models')\n",
        "\n",
        "save_dir = '/content/drive/MyDrive/RCNN_ipynb'\n",
        "for folder in ['finetune_car', 'bbox_regression', 'voc_car', 'models', 'classifier_car']:\n",
        "  if not os.path.exists(os.path.join('.', folder)):\n",
        "    shutil.copytree(os.path.join(save_dir, folder), os.path.join('.', folder))"
      ],
      "execution_count": null,
      "outputs": []
    },
    {
      "cell_type": "markdown",
      "metadata": {
        "id": "A85KOxUh5UBR"
      },
      "source": [
        "### 6. 학습시킨 모델을 활용하여 detection 수행\n"
      ]
    },
    {
      "cell_type": "markdown",
      "metadata": {
        "id": "2FBCcgWu5bou"
      },
      "source": [
        "#### car_detector.py : fine tuned AlexNet, linear SVM, Bounding box regressor 모델을 활용하여 detection 수행. Non maximum suppression 알고리즘 적용.\n",
        "\n",
        "https://github.com/object-detection-algorithm/R-CNN/blob/a7a66144a1809cde728052b4c392ef7d92fdab97/py/car_detector.py\n",
        "\n",
        "먼저 fine tuned된 AlexNet을 통해 얻은 feature vector를 linear SVM 모델에 입력하여 confidence score를 얻습니다. 이 때 svm_threshold = 0.6 으로 지정하여 임계값보다 큰 confidence score를 가지는 bounding box만을 저장합니다. 이후 Non max suppression 알고리즘을 적용하여 최종 detection 결과를 얻습니다. "
      ]
    },
    {
      "cell_type": "code",
      "metadata": {
        "id": "fNF1ZEnp5tud"
      },
      "source": [
        "def draw_box_with_text(img, rect_list, score_list):\n",
        "    \"\"\"\n",
        "    Draw the border and its classification probability\n",
        "    :param img:\n",
        "    :param rect_list:\n",
        "    :param score_list:\n",
        "    :return:\n",
        "    \"\"\"\n",
        "    for i in range(len(rect_list)):\n",
        "        xmin, ymin, xmax, ymax = rect_list[i]\n",
        "        score = score_list[i]\n",
        "\n",
        "        cv2.rectangle(img, (xmin, ymin), (xmax, ymax), color=(0, 0, 255), thickness=1)\n",
        "        cv2.putText(img, \"{:.3f}\".format(score), (xmin, ymin), cv2.FONT_HERSHEY_SIMPLEX, 0.5, (255, 255, 255), 1)"
      ],
      "execution_count": null,
      "outputs": []
    },
    {
      "cell_type": "code",
      "metadata": {
        "id": "A0q81OX55Y_z"
      },
      "source": [
        "def nms(rect_list, score_list):\n",
        "    \"\"\"\n",
        "    Non-maximum suppression\n",
        "    :param rect_list: list, the size is [N, 4]\n",
        "    :param score_list: list, size is [N]\n",
        "    \"\"\"\n",
        "    nms_rects = list()\n",
        "    nms_scores = list()\n",
        "\n",
        "    rect_array = np.array(rect_list)\n",
        "    score_array = np.array(score_list)\n",
        "\n",
        "    # After sorting once\n",
        "    # Sort by classification probability from largest to smallest\n",
        "    idxs = np.argsort(score_array)[::-1]\n",
        "    rect_array = rect_array[idxs]\n",
        "    score_array = score_array[idxs]\n",
        "\n",
        "    thresh = 0.3\n",
        "    while len(score_array) > 0:\n",
        "        # Add the bounding box with the highest classification probability\n",
        "        nms_rects.append(rect_array[0])\n",
        "        nms_scores.append(score_array[0])\n",
        "        rect_array = rect_array[1:]\n",
        "        score_array = score_array[1:]\n",
        "\n",
        "        length = len(score_array)\n",
        "        if length <= 0:\n",
        "            break\n",
        "\n",
        "        # Calculate IoU\n",
        "        iou_scores = iou(np.array(nms_rects[len(nms_rects) - 1]), rect_array)\n",
        "        # print(iou_scores)\n",
        "        # Remove bounding boxes with overlap ratio greater than or equal to thresh\n",
        "        idxs = np.where(iou_scores < thresh)[0]\n",
        "        rect_array = rect_array[idxs]\n",
        "        score_array = score_array[idxs]\n",
        "\n",
        "    return nms_rects, nms_scores"
      ],
      "execution_count": null,
      "outputs": []
    },
    {
      "cell_type": "markdown",
      "metadata": {
        "id": "RYEETS9K8jU-"
      },
      "source": [
        "여기서 IoU treshold = 0.3 으로 지정했습니다. 위의 코드를 보면 임계값보다 작은 bounding box의 index만을 남기는 방식으로 Non maximum suppression 알고리즘을 구현하고 있습니다. "
      ]
    },
    {
      "cell_type": "code",
      "metadata": {
        "id": "3eY_qfJZ5xpF",
        "colab": {
          "base_uri": "https://localhost:8080/",
          "height": 631
        },
        "outputId": "1bc7f032-82ed-4c40-9bf2-bd129ae976af"
      },
      "source": [
        "from google.colab.patches import cv2_imshow\n",
        "\n",
        "device = torch.device('cuda:0' if torch.cuda.is_available() else 'cpu')\n",
        "transform = transform = transforms.Compose([\n",
        "        transforms.ToPILImage(),\n",
        "        transforms.Resize((227, 227)),\n",
        "        transforms.RandomHorizontalFlip(),\n",
        "        transforms.ToTensor(),\n",
        "        transforms.Normalize((0.5, 0.5, 0.5), (0.5, 0.5, 0.5))\n",
        "    ])\n",
        "model = alexnet()\n",
        "num_classes = 2\n",
        "num_features = model.classifier[6].in_features\n",
        "model.classifier[6] = nn.Linear(num_features, num_classes)\n",
        "model.load_state_dict(torch.load('./models/best_linear_svm_alexnet_car.pth'))\n",
        "model.eval()\n",
        "\n",
        "# Cancel gradient tracking\n",
        "for param in model.parameters():\n",
        "    param.requires_grad = False\n",
        "if device:\n",
        "    model = model.to(device)\n",
        "\n",
        "# Create selectivesearch object\n",
        "gs = cv2.ximgproc.segmentation.createSelectiveSearchSegmentation()\n",
        "\n",
        "# test_img_path = './VOCdevkit/VOC2007/JPEGImages/000007.jpg'\n",
        "# test_xml_path = './VOCdevkit/VOC2007/Annotations/000007.xml'\n",
        "test_img_path = './VOCdevkit/VOC2007/JPEGImages/000012.jpg'\n",
        "test_xml_path = './VOCdevkit/VOC2007/Annotations/000012.xml'\n",
        "\n",
        "img = cv2.imread(test_img_path)\n",
        "dst = copy.deepcopy(img)\n",
        "\n",
        "bndboxs = parse_xml(test_xml_path)\n",
        "for bndbox in bndboxs:\n",
        "    xmin, ymin, xmax, ymax = bndbox\n",
        "    cv2.rectangle(dst, (xmin, ymin), (xmax, ymax), color=(0, 255, 0), thickness=1)\n",
        "\n",
        "# Candidate area proposal\n",
        "gs.setBaseImage(img)\n",
        "gs.switchToSelectiveSearchFast()\n",
        "rects = gs.process()\n",
        "rects[:, 2] += rects[:, 0]\n",
        "rects[:, 3] += rects[:, 1]\n",
        "print('Suggested number of candidate areas: %d' % len(rects))\n",
        "\n",
        "# softmax = torch.softmax()\n",
        "\n",
        "svm_thresh = 0.60\n",
        "\n",
        "# Save the positive sample bounding box\n",
        "score_list = list()\n",
        "positive_list = list()\n",
        "\n",
        "# tmp_score_list = list()\n",
        "# tmp_positive_list = list()\n",
        "start = time.time()\n",
        "for rect in rects:\n",
        "    xmin, ymin, xmax, ymax = rect\n",
        "    rect_img = img[ymin:ymax, xmin:xmax]\n",
        "\n",
        "    rect_transform = transform(rect_img).to(device)\n",
        "    output = model(rect_transform.unsqueeze(0))[0]\n",
        "\n",
        "    if torch.argmax(output).item() == 1:\n",
        "        \"\"\"\n",
        "        Predicted as car\n",
        "        \"\"\"\n",
        "        probs = torch.softmax(output, dim=0).cpu().numpy()\n",
        "\n",
        "        # tmp_score_list.append(probs[1])\n",
        "        # tmp_positive_list.append(rect)\n",
        "\n",
        "        if probs[1] >= svm_thresh:\n",
        "            score_list.append(probs[1])\n",
        "            positive_list.append(rect)\n",
        "            # cv2.rectangle(dst, (xmin, ymin), (xmax, ymax), color=(0, 0, 255), thickness=2)\n",
        "            print(rect, output, probs)\n",
        "end = time.time()\n",
        "print('detect time: %d s' % (end - start))\n",
        "\n",
        "# tmp_img2 = copy.deepcopy(dst)\n",
        "# draw_box_with_text(tmp_img2, tmp_positive_list, tmp_score_list)\n",
        "# cv2.imshow('tmp', tmp_img2)\n",
        "#\n",
        "# tmp_img = copy.deepcopy(dst)\n",
        "# draw_box_with_text(tmp_img, positive_list, score_list)\n",
        "# cv2.imshow('tmp2', tmp_img)\n",
        "\n",
        "nms_rects, nms_scores = nms(positive_list, score_list)\n",
        "print(nms_rects)\n",
        "print(nms_scores)\n",
        "draw_box_with_text(dst, nms_rects, nms_scores)\n",
        "\n",
        "cv2_imshow(dst)\n",
        "cv2.waitKey(0)"
      ],
      "execution_count": null,
      "outputs": [
        {
          "output_type": "stream",
          "text": [
            "Suggested number of candidate areas: 1799\n",
            "[294 195 334 253] tensor([0.0645, 0.6908], device='cuda:0') [0.3483406  0.65165937]\n",
            "[266 138 314 162] tensor([-0.4347,  0.2384], device='cuda:0') [0.3378092 0.6621908]\n",
            "[300 141 316 177] tensor([-0.6685,  0.0748], device='cuda:0') [0.3222917 0.6777083]\n",
            "[161 116 198 162] tensor([-0.0385,  0.5728], device='cuda:0') [0.35174817 0.64825183]\n",
            "[189 140 213 179] tensor([-0.7586,  0.3541], device='cuda:0') [0.24736392 0.7526361 ]\n",
            "[254 137 312 178] tensor([-0.6302,  0.1074], device='cuda:0') [0.32353354 0.67646646]\n",
            "[163 167 204 269] tensor([-0.0789,  0.8192], device='cuda:0') [0.28944188 0.7105581 ]\n",
            "[181 140 213 179] tensor([-0.6370,  0.3030], device='cuda:0') [0.28090268 0.7190973 ]\n",
            "[295 186 331 252] tensor([0.1434, 0.8060], device='cuda:0') [0.34015733 0.6598427 ]\n",
            "detect time: 10 s\n",
            "[array([189, 140, 213, 179], dtype=int32), array([163, 167, 204, 269], dtype=int32), array([300, 141, 316, 177], dtype=int32), array([254, 137, 312, 178], dtype=int32), array([295, 186, 331, 252], dtype=int32), array([161, 116, 198, 162], dtype=int32)]\n",
            "[0.7526361, 0.7105581, 0.6777083, 0.67646646, 0.6598427, 0.64825183]\n"
          ],
          "name": "stdout"
        },
        {
          "output_type": "display_data",
          "data": {
            "image/png": "[encoded data removed]",
            "text/plain": [
              "<PIL.Image.Image image mode=RGB size=500x333 at 0x7F9B7EBA8E50>"
            ]
          },
          "metadata": {
            "tags": []
          }
        },
        {
          "output_type": "execute_result",
          "data": {
            "text/plain": [
              "-1"
            ]
          },
          "metadata": {
            "tags": []
          },
          "execution_count": 132
        }
      ]
    },
    {
      "cell_type": "code",
      "metadata": {
        "id": "GbIkeITbWru8"
      },
      "source": [
        ""
      ],
      "execution_count": null,
      "outputs": []
    }
  ]
}